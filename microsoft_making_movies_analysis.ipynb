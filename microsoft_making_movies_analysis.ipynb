{
 "cells": [
  {
   "cell_type": "markdown",
   "metadata": {
    "ExecuteTime": {
     "end_time": "2021-12-08T00:09:51.825929Z",
     "start_time": "2021-12-08T00:09:51.818847Z"
    }
   },
   "source": [
    "# Final Project Submission\n",
    "\n",
    "Please fill out:\n",
    "* Student name: Elizabeth Webster\n",
    "* Student pace: Flex\n",
    "* Scheduled project review date/time: \n",
    "* Instructor name: Ahbineet Kulkarni"
   ]
  },
  {
   "cell_type": "markdown",
   "metadata": {},
   "source": [
    "# Project Overview\n",
    "Microsoft is hoping to enter the entertainment industry by making their first movie.  However, they have no idea how to go about this project.  In this notebook, I will research movie genres, release dates, and directors in order to make suggestions to Microsoft on how to proceed on their project."
   ]
  },
  {
   "cell_type": "markdown",
   "metadata": {},
   "source": [
    "## To start, we will import pandas, numpy, matplotlib, seaborn, os, and glob.  Then we will import the data tables that we will be using for our analysis."
   ]
  },
  {
   "cell_type": "code",
   "execution_count": 1,
   "metadata": {
    "ExecuteTime": {
     "end_time": "2021-12-17T03:26:27.542425Z",
     "start_time": "2021-12-17T03:26:26.714718Z"
    }
   },
   "outputs": [],
   "source": [
    "# Import the necessary packages\n",
    "import pandas as pd\n",
    "import numpy as np\n",
    "import matplotlib.pyplot as plt\n",
    "import seaborn as sns\n",
    "import os\n",
    "from glob import glob"
   ]
  },
  {
   "cell_type": "code",
   "execution_count": 2,
   "metadata": {
    "ExecuteTime": {
     "end_time": "2021-12-17T03:26:30.433946Z",
     "start_time": "2021-12-17T03:26:27.543495Z"
    }
   },
   "outputs": [],
   "source": [
    "# Import the related data\n",
    "csv_files = glob(\"./zippedData/*.csv.gz\")\n",
    "csv_files\n",
    "\n",
    "csv_files_dict = {}\n",
    "for filename in csv_files:\n",
    "    filename_cleaned = os.path.basename(filename).replace(\n",
    "        \".csv\", \"\").replace(\".\", \"_\") \n",
    "    filename_df = pd.read_csv(filename, index_col=0)\n",
    "    csv_files_dict[filename_cleaned] = filename_df"
   ]
  },
  {
   "cell_type": "markdown",
   "metadata": {},
   "source": [
    "# Find the Most Profitable Genres\n",
    "We will first be looking into different movie genres and how profitable they were.  We will do this two different ways. First will be by genre profit (Worldwide Gross less Production Cost).  The second will be by return on investment (Worldwide Gross as a percentage of Production Cost)."
   ]
  },
  {
   "cell_type": "markdown",
   "metadata": {},
   "source": [
    "## Genre vs Profit\n",
    "### Creating the DataFrames\n",
    "First we will take a look at how the genres stack up in regards to profit.  For this example, profit refers to Worldwide Gross less Production Budget.  We will begin by importing the imbd title basics table and the tn movie budgets table."
   ]
  },
  {
   "cell_type": "code",
   "execution_count": 3,
   "metadata": {
    "ExecuteTime": {
     "end_time": "2021-12-17T03:26:31.642006Z",
     "start_time": "2021-12-17T03:26:31.610339Z"
    }
   },
   "outputs": [
    {
     "name": "stdout",
     "output_type": "stream",
     "text": [
      "Length: 146144\n"
     ]
    },
    {
     "data": {
      "text/html": [
       "<div>\n",
       "<style scoped>\n",
       "    .dataframe tbody tr th:only-of-type {\n",
       "        vertical-align: middle;\n",
       "    }\n",
       "\n",
       "    .dataframe tbody tr th {\n",
       "        vertical-align: top;\n",
       "    }\n",
       "\n",
       "    .dataframe thead th {\n",
       "        text-align: right;\n",
       "    }\n",
       "</style>\n",
       "<table border=\"1\" class=\"dataframe\">\n",
       "  <thead>\n",
       "    <tr style=\"text-align: right;\">\n",
       "      <th></th>\n",
       "      <th>primary_title</th>\n",
       "      <th>original_title</th>\n",
       "      <th>start_year</th>\n",
       "      <th>runtime_minutes</th>\n",
       "      <th>genres</th>\n",
       "    </tr>\n",
       "    <tr>\n",
       "      <th>tconst</th>\n",
       "      <th></th>\n",
       "      <th></th>\n",
       "      <th></th>\n",
       "      <th></th>\n",
       "      <th></th>\n",
       "    </tr>\n",
       "  </thead>\n",
       "  <tbody>\n",
       "    <tr>\n",
       "      <th>tt0063540</th>\n",
       "      <td>Sunghursh</td>\n",
       "      <td>Sunghursh</td>\n",
       "      <td>2013</td>\n",
       "      <td>175.0</td>\n",
       "      <td>Action,Crime,Drama</td>\n",
       "    </tr>\n",
       "    <tr>\n",
       "      <th>tt0066787</th>\n",
       "      <td>One Day Before the Rainy Season</td>\n",
       "      <td>Ashad Ka Ek Din</td>\n",
       "      <td>2019</td>\n",
       "      <td>114.0</td>\n",
       "      <td>Biography,Drama</td>\n",
       "    </tr>\n",
       "    <tr>\n",
       "      <th>tt0069049</th>\n",
       "      <td>The Other Side of the Wind</td>\n",
       "      <td>The Other Side of the Wind</td>\n",
       "      <td>2018</td>\n",
       "      <td>122.0</td>\n",
       "      <td>Drama</td>\n",
       "    </tr>\n",
       "    <tr>\n",
       "      <th>tt0069204</th>\n",
       "      <td>Sabse Bada Sukh</td>\n",
       "      <td>Sabse Bada Sukh</td>\n",
       "      <td>2018</td>\n",
       "      <td>NaN</td>\n",
       "      <td>Comedy,Drama</td>\n",
       "    </tr>\n",
       "    <tr>\n",
       "      <th>tt0100275</th>\n",
       "      <td>The Wandering Soap Opera</td>\n",
       "      <td>La Telenovela Errante</td>\n",
       "      <td>2017</td>\n",
       "      <td>80.0</td>\n",
       "      <td>Comedy,Drama,Fantasy</td>\n",
       "    </tr>\n",
       "  </tbody>\n",
       "</table>\n",
       "</div>"
      ],
      "text/plain": [
       "                             primary_title              original_title  \\\n",
       "tconst                                                                   \n",
       "tt0063540                        Sunghursh                   Sunghursh   \n",
       "tt0066787  One Day Before the Rainy Season             Ashad Ka Ek Din   \n",
       "tt0069049       The Other Side of the Wind  The Other Side of the Wind   \n",
       "tt0069204                  Sabse Bada Sukh             Sabse Bada Sukh   \n",
       "tt0100275         The Wandering Soap Opera       La Telenovela Errante   \n",
       "\n",
       "           start_year  runtime_minutes                genres  \n",
       "tconst                                                        \n",
       "tt0063540        2013            175.0    Action,Crime,Drama  \n",
       "tt0066787        2019            114.0       Biography,Drama  \n",
       "tt0069049        2018            122.0                 Drama  \n",
       "tt0069204        2018              NaN          Comedy,Drama  \n",
       "tt0100275        2017             80.0  Comedy,Drama,Fantasy  "
      ]
     },
     "execution_count": 3,
     "metadata": {},
     "output_type": "execute_result"
    }
   ],
   "source": [
    "#Create separate DataFrames\n",
    "title_basics_df = csv_files_dict[\"imdb_title_basics_gz\"]\n",
    "print(\"Length:\", len(title_basics_df))\n",
    "title_basics_df.head()"
   ]
  },
  {
   "cell_type": "code",
   "execution_count": 4,
   "metadata": {
    "ExecuteTime": {
     "end_time": "2021-12-17T03:26:31.907393Z",
     "start_time": "2021-12-17T03:26:31.888468Z"
    }
   },
   "outputs": [
    {
     "name": "stdout",
     "output_type": "stream",
     "text": [
      "Length: 5782\n"
     ]
    },
    {
     "data": {
      "text/html": [
       "<div>\n",
       "<style scoped>\n",
       "    .dataframe tbody tr th:only-of-type {\n",
       "        vertical-align: middle;\n",
       "    }\n",
       "\n",
       "    .dataframe tbody tr th {\n",
       "        vertical-align: top;\n",
       "    }\n",
       "\n",
       "    .dataframe thead th {\n",
       "        text-align: right;\n",
       "    }\n",
       "</style>\n",
       "<table border=\"1\" class=\"dataframe\">\n",
       "  <thead>\n",
       "    <tr style=\"text-align: right;\">\n",
       "      <th></th>\n",
       "      <th>release_date</th>\n",
       "      <th>movie</th>\n",
       "      <th>production_budget</th>\n",
       "      <th>domestic_gross</th>\n",
       "      <th>worldwide_gross</th>\n",
       "    </tr>\n",
       "    <tr>\n",
       "      <th>id</th>\n",
       "      <th></th>\n",
       "      <th></th>\n",
       "      <th></th>\n",
       "      <th></th>\n",
       "      <th></th>\n",
       "    </tr>\n",
       "  </thead>\n",
       "  <tbody>\n",
       "    <tr>\n",
       "      <th>1</th>\n",
       "      <td>Dec 18, 2009</td>\n",
       "      <td>Avatar</td>\n",
       "      <td>$425,000,000</td>\n",
       "      <td>$760,507,625</td>\n",
       "      <td>$2,776,345,279</td>\n",
       "    </tr>\n",
       "    <tr>\n",
       "      <th>2</th>\n",
       "      <td>May 20, 2011</td>\n",
       "      <td>Pirates of the Caribbean: On Stranger Tides</td>\n",
       "      <td>$410,600,000</td>\n",
       "      <td>$241,063,875</td>\n",
       "      <td>$1,045,663,875</td>\n",
       "    </tr>\n",
       "    <tr>\n",
       "      <th>3</th>\n",
       "      <td>Jun 7, 2019</td>\n",
       "      <td>Dark Phoenix</td>\n",
       "      <td>$350,000,000</td>\n",
       "      <td>$42,762,350</td>\n",
       "      <td>$149,762,350</td>\n",
       "    </tr>\n",
       "    <tr>\n",
       "      <th>4</th>\n",
       "      <td>May 1, 2015</td>\n",
       "      <td>Avengers: Age of Ultron</td>\n",
       "      <td>$330,600,000</td>\n",
       "      <td>$459,005,868</td>\n",
       "      <td>$1,403,013,963</td>\n",
       "    </tr>\n",
       "    <tr>\n",
       "      <th>5</th>\n",
       "      <td>Dec 15, 2017</td>\n",
       "      <td>Star Wars Ep. VIII: The Last Jedi</td>\n",
       "      <td>$317,000,000</td>\n",
       "      <td>$620,181,382</td>\n",
       "      <td>$1,316,721,747</td>\n",
       "    </tr>\n",
       "  </tbody>\n",
       "</table>\n",
       "</div>"
      ],
      "text/plain": [
       "    release_date                                        movie  \\\n",
       "id                                                              \n",
       "1   Dec 18, 2009                                       Avatar   \n",
       "2   May 20, 2011  Pirates of the Caribbean: On Stranger Tides   \n",
       "3    Jun 7, 2019                                 Dark Phoenix   \n",
       "4    May 1, 2015                      Avengers: Age of Ultron   \n",
       "5   Dec 15, 2017            Star Wars Ep. VIII: The Last Jedi   \n",
       "\n",
       "   production_budget domestic_gross worldwide_gross  \n",
       "id                                                   \n",
       "1       $425,000,000   $760,507,625  $2,776,345,279  \n",
       "2       $410,600,000   $241,063,875  $1,045,663,875  \n",
       "3       $350,000,000    $42,762,350    $149,762,350  \n",
       "4       $330,600,000   $459,005,868  $1,403,013,963  \n",
       "5       $317,000,000   $620,181,382  $1,316,721,747  "
      ]
     },
     "execution_count": 4,
     "metadata": {},
     "output_type": "execute_result"
    }
   ],
   "source": [
    "movie_budgets_df = csv_files_dict[\"tn_movie_budgets_gz\"]\n",
    "print(\"Length:\", len(movie_budgets_df))\n",
    "movie_budgets_df.head()"
   ]
  },
  {
   "cell_type": "markdown",
   "metadata": {},
   "source": [
    "### Joining the Tables\n",
    "In order to access all the data we will need for profits by genre, we will need to merge the two tables.  We will be using a merge instead of a join because the we are not combining the tables on their index."
   ]
  },
  {
   "cell_type": "code",
   "execution_count": 5,
   "metadata": {
    "ExecuteTime": {
     "end_time": "2021-12-17T03:26:32.726349Z",
     "start_time": "2021-12-17T03:26:32.641101Z"
    }
   },
   "outputs": [
    {
     "data": {
      "text/html": [
       "<div>\n",
       "<style scoped>\n",
       "    .dataframe tbody tr th:only-of-type {\n",
       "        vertical-align: middle;\n",
       "    }\n",
       "\n",
       "    .dataframe tbody tr th {\n",
       "        vertical-align: top;\n",
       "    }\n",
       "\n",
       "    .dataframe thead th {\n",
       "        text-align: right;\n",
       "    }\n",
       "</style>\n",
       "<table border=\"1\" class=\"dataframe\">\n",
       "  <thead>\n",
       "    <tr style=\"text-align: right;\">\n",
       "      <th></th>\n",
       "      <th>primary_title</th>\n",
       "      <th>original_title</th>\n",
       "      <th>start_year</th>\n",
       "      <th>runtime_minutes</th>\n",
       "      <th>genres</th>\n",
       "      <th>release_date</th>\n",
       "      <th>movie</th>\n",
       "      <th>production_budget</th>\n",
       "      <th>domestic_gross</th>\n",
       "      <th>worldwide_gross</th>\n",
       "    </tr>\n",
       "  </thead>\n",
       "  <tbody>\n",
       "    <tr>\n",
       "      <th>0</th>\n",
       "      <td>Foodfight!</td>\n",
       "      <td>Foodfight!</td>\n",
       "      <td>2012</td>\n",
       "      <td>91.0</td>\n",
       "      <td>Action,Animation,Comedy</td>\n",
       "      <td>Dec 31, 2012</td>\n",
       "      <td>Foodfight!</td>\n",
       "      <td>$45,000,000</td>\n",
       "      <td>$0</td>\n",
       "      <td>$73,706</td>\n",
       "    </tr>\n",
       "    <tr>\n",
       "      <th>1</th>\n",
       "      <td>Mortal Kombat</td>\n",
       "      <td>Mortal Kombat</td>\n",
       "      <td>2021</td>\n",
       "      <td>NaN</td>\n",
       "      <td>Action,Adventure,Fantasy</td>\n",
       "      <td>Aug 18, 1995</td>\n",
       "      <td>Mortal Kombat</td>\n",
       "      <td>$20,000,000</td>\n",
       "      <td>$70,433,227</td>\n",
       "      <td>$122,133,227</td>\n",
       "    </tr>\n",
       "    <tr>\n",
       "      <th>2</th>\n",
       "      <td>The Overnight</td>\n",
       "      <td>The Overnight</td>\n",
       "      <td>2010</td>\n",
       "      <td>88.0</td>\n",
       "      <td>NaN</td>\n",
       "      <td>Jun 19, 2015</td>\n",
       "      <td>The Overnight</td>\n",
       "      <td>$200,000</td>\n",
       "      <td>$1,109,808</td>\n",
       "      <td>$1,165,996</td>\n",
       "    </tr>\n",
       "    <tr>\n",
       "      <th>3</th>\n",
       "      <td>The Overnight</td>\n",
       "      <td>The Overnight</td>\n",
       "      <td>2015</td>\n",
       "      <td>79.0</td>\n",
       "      <td>Comedy,Mystery</td>\n",
       "      <td>Jun 19, 2015</td>\n",
       "      <td>The Overnight</td>\n",
       "      <td>$200,000</td>\n",
       "      <td>$1,109,808</td>\n",
       "      <td>$1,165,996</td>\n",
       "    </tr>\n",
       "    <tr>\n",
       "      <th>4</th>\n",
       "      <td>On the Road</td>\n",
       "      <td>On the Road</td>\n",
       "      <td>2012</td>\n",
       "      <td>124.0</td>\n",
       "      <td>Adventure,Drama,Romance</td>\n",
       "      <td>Mar 22, 2013</td>\n",
       "      <td>On the Road</td>\n",
       "      <td>$25,000,000</td>\n",
       "      <td>$720,828</td>\n",
       "      <td>$9,313,302</td>\n",
       "    </tr>\n",
       "    <tr>\n",
       "      <th>...</th>\n",
       "      <td>...</td>\n",
       "      <td>...</td>\n",
       "      <td>...</td>\n",
       "      <td>...</td>\n",
       "      <td>...</td>\n",
       "      <td>...</td>\n",
       "      <td>...</td>\n",
       "      <td>...</td>\n",
       "      <td>...</td>\n",
       "      <td>...</td>\n",
       "    </tr>\n",
       "    <tr>\n",
       "      <th>3810</th>\n",
       "      <td>Fuel</td>\n",
       "      <td>Fuel</td>\n",
       "      <td>2018</td>\n",
       "      <td>NaN</td>\n",
       "      <td>Documentary,Sport</td>\n",
       "      <td>Nov 14, 2008</td>\n",
       "      <td>Fuel</td>\n",
       "      <td>$2,500,000</td>\n",
       "      <td>$174,255</td>\n",
       "      <td>$174,255</td>\n",
       "    </tr>\n",
       "    <tr>\n",
       "      <th>3811</th>\n",
       "      <td>Diner</td>\n",
       "      <td>Diner</td>\n",
       "      <td>2019</td>\n",
       "      <td>NaN</td>\n",
       "      <td>Crime</td>\n",
       "      <td>Apr 2, 1982</td>\n",
       "      <td>Diner</td>\n",
       "      <td>$5,000,000</td>\n",
       "      <td>$12,592,907</td>\n",
       "      <td>$12,592,907</td>\n",
       "    </tr>\n",
       "    <tr>\n",
       "      <th>3812</th>\n",
       "      <td>Traitor</td>\n",
       "      <td>Traitor</td>\n",
       "      <td>2015</td>\n",
       "      <td>110.0</td>\n",
       "      <td>Action,Drama,Romance</td>\n",
       "      <td>Aug 27, 2008</td>\n",
       "      <td>Traitor</td>\n",
       "      <td>$22,000,000</td>\n",
       "      <td>$23,530,831</td>\n",
       "      <td>$27,882,226</td>\n",
       "    </tr>\n",
       "    <tr>\n",
       "      <th>3813</th>\n",
       "      <td>Ray</td>\n",
       "      <td>Ray</td>\n",
       "      <td>2018</td>\n",
       "      <td>111.0</td>\n",
       "      <td>Crime</td>\n",
       "      <td>Oct 29, 2004</td>\n",
       "      <td>Ray</td>\n",
       "      <td>$40,000,000</td>\n",
       "      <td>$75,305,995</td>\n",
       "      <td>$124,823,094</td>\n",
       "    </tr>\n",
       "    <tr>\n",
       "      <th>3814</th>\n",
       "      <td>Sublime</td>\n",
       "      <td>Sublime</td>\n",
       "      <td>2019</td>\n",
       "      <td>NaN</td>\n",
       "      <td>Documentary</td>\n",
       "      <td>Mar 13, 2007</td>\n",
       "      <td>Sublime</td>\n",
       "      <td>$1,800,000</td>\n",
       "      <td>$0</td>\n",
       "      <td>$0</td>\n",
       "    </tr>\n",
       "  </tbody>\n",
       "</table>\n",
       "<p>3815 rows × 10 columns</p>\n",
       "</div>"
      ],
      "text/plain": [
       "      primary_title original_title  start_year  runtime_minutes  \\\n",
       "0        Foodfight!     Foodfight!        2012             91.0   \n",
       "1     Mortal Kombat  Mortal Kombat        2021              NaN   \n",
       "2     The Overnight  The Overnight        2010             88.0   \n",
       "3     The Overnight  The Overnight        2015             79.0   \n",
       "4       On the Road    On the Road        2012            124.0   \n",
       "...             ...            ...         ...              ...   \n",
       "3810           Fuel           Fuel        2018              NaN   \n",
       "3811          Diner          Diner        2019              NaN   \n",
       "3812        Traitor        Traitor        2015            110.0   \n",
       "3813            Ray            Ray        2018            111.0   \n",
       "3814        Sublime        Sublime        2019              NaN   \n",
       "\n",
       "                        genres  release_date          movie production_budget  \\\n",
       "0      Action,Animation,Comedy  Dec 31, 2012     Foodfight!       $45,000,000   \n",
       "1     Action,Adventure,Fantasy  Aug 18, 1995  Mortal Kombat       $20,000,000   \n",
       "2                          NaN  Jun 19, 2015  The Overnight          $200,000   \n",
       "3               Comedy,Mystery  Jun 19, 2015  The Overnight          $200,000   \n",
       "4      Adventure,Drama,Romance  Mar 22, 2013    On the Road       $25,000,000   \n",
       "...                        ...           ...            ...               ...   \n",
       "3810         Documentary,Sport  Nov 14, 2008           Fuel        $2,500,000   \n",
       "3811                     Crime   Apr 2, 1982          Diner        $5,000,000   \n",
       "3812      Action,Drama,Romance  Aug 27, 2008        Traitor       $22,000,000   \n",
       "3813                     Crime  Oct 29, 2004            Ray       $40,000,000   \n",
       "3814               Documentary  Mar 13, 2007        Sublime        $1,800,000   \n",
       "\n",
       "     domestic_gross worldwide_gross  \n",
       "0                $0         $73,706  \n",
       "1       $70,433,227    $122,133,227  \n",
       "2        $1,109,808      $1,165,996  \n",
       "3        $1,109,808      $1,165,996  \n",
       "4          $720,828      $9,313,302  \n",
       "...             ...             ...  \n",
       "3810       $174,255        $174,255  \n",
       "3811    $12,592,907     $12,592,907  \n",
       "3812    $23,530,831     $27,882,226  \n",
       "3813    $75,305,995    $124,823,094  \n",
       "3814             $0              $0  \n",
       "\n",
       "[3815 rows x 10 columns]"
      ]
     },
     "execution_count": 5,
     "metadata": {},
     "output_type": "execute_result"
    }
   ],
   "source": [
    "#Merge the DataFrames\n",
    "genre_and_profit_df = title_basics_df.merge(movie_budgets_df,\n",
    "                                            how='inner',\n",
    "                                            left_on='primary_title',\n",
    "                                            right_on='movie')\n",
    "genre_and_profit_df"
   ]
  },
  {
   "cell_type": "markdown",
   "metadata": {},
   "source": [
    "### Cleaning the Data\n",
    "Once the two tables are merged into one DataFrame, we will clean it up so we are only dealing with the data we need.  This will include checking for duplicates, converting certain columns to integers, and using aggregate functions to create a new column."
   ]
  },
  {
   "cell_type": "code",
   "execution_count": 6,
   "metadata": {
    "ExecuteTime": {
     "end_time": "2021-12-17T03:26:33.423029Z",
     "start_time": "2021-12-17T03:26:33.397836Z"
    },
    "scrolled": true
   },
   "outputs": [
    {
     "data": {
      "text/plain": [
       "<bound method IndexOpsMixin.value_counts of 0       False\n",
       "1       False\n",
       "2       False\n",
       "3       False\n",
       "4       False\n",
       "        ...  \n",
       "3810    False\n",
       "3811    False\n",
       "3812    False\n",
       "3813    False\n",
       "3814    False\n",
       "Length: 3815, dtype: bool>"
      ]
     },
     "execution_count": 6,
     "metadata": {},
     "output_type": "execute_result"
    }
   ],
   "source": [
    "#Check for duplicates\n",
    "genre_and_profit_df.duplicated().value_counts"
   ]
  },
  {
   "cell_type": "code",
   "execution_count": 7,
   "metadata": {
    "ExecuteTime": {
     "end_time": "2021-12-17T03:26:33.790546Z",
     "start_time": "2021-12-17T03:26:33.764613Z"
    }
   },
   "outputs": [],
   "source": [
    "#Clean production budget and worldwide gross and convert to integers\n",
    "genre_and_profit_df['production_budget'] = genre_and_profit_df[\n",
    "    'production_budget'].str.replace(\"$\", \"\").str.replace(\",\", \"\").astype(int)\n",
    "genre_and_profit_df['worldwide_gross'] = genre_and_profit_df[\n",
    "    'worldwide_gross'].str.replace(\"$\", \"\").str.replace(\",\", \"\").astype(int)"
   ]
  },
  {
   "cell_type": "code",
   "execution_count": 8,
   "metadata": {
    "ExecuteTime": {
     "end_time": "2021-12-17T03:26:34.135532Z",
     "start_time": "2021-12-17T03:26:34.123422Z"
    }
   },
   "outputs": [],
   "source": [
    "#Create a profit column\n",
    "genre_and_profit_df['movie_profit'] = genre_and_profit_df[\n",
    "    'worldwide_gross'] - genre_and_profit_df['production_budget']"
   ]
  },
  {
   "cell_type": "markdown",
   "metadata": {},
   "source": [
    "### Separating out Genres\n",
    "Currently, our genre column can include up to three different genres.  In order to find profits for each different genre, we will need to separate these values into their own DataFrames and then join them back together."
   ]
  },
  {
   "cell_type": "code",
   "execution_count": 9,
   "metadata": {
    "ExecuteTime": {
     "end_time": "2021-12-17T03:26:34.877152Z",
     "start_time": "2021-12-17T03:26:34.849053Z"
    }
   },
   "outputs": [],
   "source": [
    "#Separate out individual genres for each movie\n",
    "genre_and_profit_df[['genre1','genre2','genre3']] = genre_and_profit_df[\n",
    "                                                    'genres'].str.split(\n",
    "                                                    \",\", expand=True)"
   ]
  },
  {
   "cell_type": "code",
   "execution_count": 10,
   "metadata": {
    "ExecuteTime": {
     "end_time": "2021-12-17T03:26:35.209400Z",
     "start_time": "2021-12-17T03:26:35.182756Z"
    }
   },
   "outputs": [],
   "source": [
    "#Create DataFrames with genre averages\n",
    "genre1_df = genre_and_profit_df.groupby('genre1').mean()\n",
    "genre2_df = genre_and_profit_df.groupby('genre2').mean()\n",
    "genre3_df = genre_and_profit_df.groupby('genre3').mean()"
   ]
  },
  {
   "cell_type": "code",
   "execution_count": 11,
   "metadata": {
    "ExecuteTime": {
     "end_time": "2021-12-17T03:26:35.470921Z",
     "start_time": "2021-12-17T03:26:35.461432Z"
    }
   },
   "outputs": [],
   "source": [
    "#Join the genre DataFrames\n",
    "two_joined_df = genre1_df.join(genre2_df, how='outer', rsuffix='_2')"
   ]
  },
  {
   "cell_type": "code",
   "execution_count": 12,
   "metadata": {
    "ExecuteTime": {
     "end_time": "2021-12-17T03:26:35.718477Z",
     "start_time": "2021-12-17T03:26:35.705132Z"
    }
   },
   "outputs": [],
   "source": [
    "three_joined_df = two_joined_df.join(genre3_df, how='outer', rsuffix='_3')"
   ]
  },
  {
   "cell_type": "markdown",
   "metadata": {},
   "source": [
    "### Cleaning the New DataFrame\n",
    "Now that we have the data we are needing, we can perform aggregate functions on it in order to find the average profit for each genre."
   ]
  },
  {
   "cell_type": "code",
   "execution_count": 13,
   "metadata": {
    "ExecuteTime": {
     "end_time": "2021-12-17T03:26:36.272082Z",
     "start_time": "2021-12-17T03:26:36.249905Z"
    }
   },
   "outputs": [
    {
     "data": {
      "text/html": [
       "<div>\n",
       "<style scoped>\n",
       "    .dataframe tbody tr th:only-of-type {\n",
       "        vertical-align: middle;\n",
       "    }\n",
       "\n",
       "    .dataframe tbody tr th {\n",
       "        vertical-align: top;\n",
       "    }\n",
       "\n",
       "    .dataframe thead th {\n",
       "        text-align: right;\n",
       "    }\n",
       "</style>\n",
       "<table border=\"1\" class=\"dataframe\">\n",
       "  <thead>\n",
       "    <tr style=\"text-align: right;\">\n",
       "      <th></th>\n",
       "      <th>movie_profit</th>\n",
       "      <th>movie_profit_2</th>\n",
       "      <th>movie_profit_3</th>\n",
       "    </tr>\n",
       "  </thead>\n",
       "  <tbody>\n",
       "    <tr>\n",
       "      <th>Action</th>\n",
       "      <td>1.140820e+08</td>\n",
       "      <td>NaN</td>\n",
       "      <td>NaN</td>\n",
       "    </tr>\n",
       "    <tr>\n",
       "      <th>Adventure</th>\n",
       "      <td>1.562744e+08</td>\n",
       "      <td>2.348677e+08</td>\n",
       "      <td>NaN</td>\n",
       "    </tr>\n",
       "    <tr>\n",
       "      <th>Animation</th>\n",
       "      <td>1.169603e+08</td>\n",
       "      <td>2.452123e+08</td>\n",
       "      <td>3.222576e+08</td>\n",
       "    </tr>\n",
       "    <tr>\n",
       "      <th>Biography</th>\n",
       "      <td>4.086081e+07</td>\n",
       "      <td>4.840822e+07</td>\n",
       "      <td>1.170822e+08</td>\n",
       "    </tr>\n",
       "    <tr>\n",
       "      <th>Comedy</th>\n",
       "      <td>3.574767e+07</td>\n",
       "      <td>5.909769e+07</td>\n",
       "      <td>2.506183e+08</td>\n",
       "    </tr>\n",
       "    <tr>\n",
       "      <th>Crime</th>\n",
       "      <td>2.729400e+07</td>\n",
       "      <td>4.103347e+07</td>\n",
       "      <td>5.201195e+07</td>\n",
       "    </tr>\n",
       "    <tr>\n",
       "      <th>Documentary</th>\n",
       "      <td>3.729862e+07</td>\n",
       "      <td>4.655366e+07</td>\n",
       "      <td>1.628089e+07</td>\n",
       "    </tr>\n",
       "    <tr>\n",
       "      <th>Drama</th>\n",
       "      <td>2.888918e+07</td>\n",
       "      <td>4.217389e+07</td>\n",
       "      <td>4.656813e+07</td>\n",
       "    </tr>\n",
       "    <tr>\n",
       "      <th>Family</th>\n",
       "      <td>2.605513e+08</td>\n",
       "      <td>7.712496e+07</td>\n",
       "      <td>1.015828e+08</td>\n",
       "    </tr>\n",
       "    <tr>\n",
       "      <th>Fantasy</th>\n",
       "      <td>1.762237e+08</td>\n",
       "      <td>1.231921e+08</td>\n",
       "      <td>1.678300e+08</td>\n",
       "    </tr>\n",
       "    <tr>\n",
       "      <th>History</th>\n",
       "      <td>NaN</td>\n",
       "      <td>2.809141e+07</td>\n",
       "      <td>4.782971e+07</td>\n",
       "    </tr>\n",
       "    <tr>\n",
       "      <th>Horror</th>\n",
       "      <td>5.465514e+07</td>\n",
       "      <td>3.367315e+07</td>\n",
       "      <td>2.750371e+07</td>\n",
       "    </tr>\n",
       "    <tr>\n",
       "      <th>Music</th>\n",
       "      <td>8.570950e+07</td>\n",
       "      <td>3.377460e+07</td>\n",
       "      <td>6.391598e+07</td>\n",
       "    </tr>\n",
       "    <tr>\n",
       "      <th>Musical</th>\n",
       "      <td>1.875732e+08</td>\n",
       "      <td>1.000713e+08</td>\n",
       "      <td>2.290784e+08</td>\n",
       "    </tr>\n",
       "    <tr>\n",
       "      <th>Mystery</th>\n",
       "      <td>4.641415e+07</td>\n",
       "      <td>4.862094e+07</td>\n",
       "      <td>4.116970e+07</td>\n",
       "    </tr>\n",
       "    <tr>\n",
       "      <th>News</th>\n",
       "      <td>NaN</td>\n",
       "      <td>2.447857e+07</td>\n",
       "      <td>1.610726e+07</td>\n",
       "    </tr>\n",
       "    <tr>\n",
       "      <th>Reality-TV</th>\n",
       "      <td>NaN</td>\n",
       "      <td>NaN</td>\n",
       "      <td>-1.000000e+06</td>\n",
       "    </tr>\n",
       "    <tr>\n",
       "      <th>Romance</th>\n",
       "      <td>2.707313e+06</td>\n",
       "      <td>4.937202e+07</td>\n",
       "      <td>3.235058e+07</td>\n",
       "    </tr>\n",
       "    <tr>\n",
       "      <th>Sci-Fi</th>\n",
       "      <td>5.628631e+07</td>\n",
       "      <td>6.881068e+07</td>\n",
       "      <td>2.088337e+08</td>\n",
       "    </tr>\n",
       "    <tr>\n",
       "      <th>Sport</th>\n",
       "      <td>-2.637201e+06</td>\n",
       "      <td>1.345388e+07</td>\n",
       "      <td>6.463656e+07</td>\n",
       "    </tr>\n",
       "    <tr>\n",
       "      <th>Thriller</th>\n",
       "      <td>3.071666e+07</td>\n",
       "      <td>3.849768e+07</td>\n",
       "      <td>6.052194e+07</td>\n",
       "    </tr>\n",
       "    <tr>\n",
       "      <th>War</th>\n",
       "      <td>7.341817e+07</td>\n",
       "      <td>1.940707e+07</td>\n",
       "      <td>2.791929e+07</td>\n",
       "    </tr>\n",
       "    <tr>\n",
       "      <th>Western</th>\n",
       "      <td>-2.413652e+06</td>\n",
       "      <td>5.532448e+07</td>\n",
       "      <td>1.922091e+07</td>\n",
       "    </tr>\n",
       "  </tbody>\n",
       "</table>\n",
       "</div>"
      ],
      "text/plain": [
       "             movie_profit  movie_profit_2  movie_profit_3\n",
       "Action       1.140820e+08             NaN             NaN\n",
       "Adventure    1.562744e+08    2.348677e+08             NaN\n",
       "Animation    1.169603e+08    2.452123e+08    3.222576e+08\n",
       "Biography    4.086081e+07    4.840822e+07    1.170822e+08\n",
       "Comedy       3.574767e+07    5.909769e+07    2.506183e+08\n",
       "Crime        2.729400e+07    4.103347e+07    5.201195e+07\n",
       "Documentary  3.729862e+07    4.655366e+07    1.628089e+07\n",
       "Drama        2.888918e+07    4.217389e+07    4.656813e+07\n",
       "Family       2.605513e+08    7.712496e+07    1.015828e+08\n",
       "Fantasy      1.762237e+08    1.231921e+08    1.678300e+08\n",
       "History               NaN    2.809141e+07    4.782971e+07\n",
       "Horror       5.465514e+07    3.367315e+07    2.750371e+07\n",
       "Music        8.570950e+07    3.377460e+07    6.391598e+07\n",
       "Musical      1.875732e+08    1.000713e+08    2.290784e+08\n",
       "Mystery      4.641415e+07    4.862094e+07    4.116970e+07\n",
       "News                  NaN    2.447857e+07    1.610726e+07\n",
       "Reality-TV            NaN             NaN   -1.000000e+06\n",
       "Romance      2.707313e+06    4.937202e+07    3.235058e+07\n",
       "Sci-Fi       5.628631e+07    6.881068e+07    2.088337e+08\n",
       "Sport       -2.637201e+06    1.345388e+07    6.463656e+07\n",
       "Thriller     3.071666e+07    3.849768e+07    6.052194e+07\n",
       "War          7.341817e+07    1.940707e+07    2.791929e+07\n",
       "Western     -2.413652e+06    5.532448e+07    1.922091e+07"
      ]
     },
     "execution_count": 13,
     "metadata": {},
     "output_type": "execute_result"
    }
   ],
   "source": [
    "#Create a DataFrame with only the necessary columns\n",
    "profits_df = three_joined_df.filter(['movie_profit', \n",
    "                                     'movie_profit_2', \n",
    "                                     'movie_profit_3'])\n",
    "profits_df"
   ]
  },
  {
   "cell_type": "code",
   "execution_count": 14,
   "metadata": {
    "ExecuteTime": {
     "end_time": "2021-12-17T03:26:36.564335Z",
     "start_time": "2021-12-17T03:26:36.556404Z"
    }
   },
   "outputs": [],
   "source": [
    "#Create a column with overall averages\n",
    "profits_df['avg_profit'] = profits_df.mean(axis=1)"
   ]
  },
  {
   "cell_type": "code",
   "execution_count": 15,
   "metadata": {
    "ExecuteTime": {
     "end_time": "2021-12-17T03:26:36.882117Z",
     "start_time": "2021-12-17T03:26:36.858984Z"
    }
   },
   "outputs": [
    {
     "data": {
      "text/html": [
       "<div>\n",
       "<style scoped>\n",
       "    .dataframe tbody tr th:only-of-type {\n",
       "        vertical-align: middle;\n",
       "    }\n",
       "\n",
       "    .dataframe tbody tr th {\n",
       "        vertical-align: top;\n",
       "    }\n",
       "\n",
       "    .dataframe thead th {\n",
       "        text-align: right;\n",
       "    }\n",
       "</style>\n",
       "<table border=\"1\" class=\"dataframe\">\n",
       "  <thead>\n",
       "    <tr style=\"text-align: right;\">\n",
       "      <th></th>\n",
       "      <th>movie_profit</th>\n",
       "      <th>movie_profit_2</th>\n",
       "      <th>movie_profit_3</th>\n",
       "      <th>avg_profit</th>\n",
       "    </tr>\n",
       "  </thead>\n",
       "  <tbody>\n",
       "    <tr>\n",
       "      <th>Animation</th>\n",
       "      <td>1.169603e+08</td>\n",
       "      <td>2.452123e+08</td>\n",
       "      <td>3.222576e+08</td>\n",
       "      <td>2.281434e+08</td>\n",
       "    </tr>\n",
       "    <tr>\n",
       "      <th>Adventure</th>\n",
       "      <td>1.562744e+08</td>\n",
       "      <td>2.348677e+08</td>\n",
       "      <td>NaN</td>\n",
       "      <td>1.955710e+08</td>\n",
       "    </tr>\n",
       "    <tr>\n",
       "      <th>Musical</th>\n",
       "      <td>1.875732e+08</td>\n",
       "      <td>1.000713e+08</td>\n",
       "      <td>2.290784e+08</td>\n",
       "      <td>1.722410e+08</td>\n",
       "    </tr>\n",
       "    <tr>\n",
       "      <th>Fantasy</th>\n",
       "      <td>1.762237e+08</td>\n",
       "      <td>1.231921e+08</td>\n",
       "      <td>1.678300e+08</td>\n",
       "      <td>1.557486e+08</td>\n",
       "    </tr>\n",
       "    <tr>\n",
       "      <th>Family</th>\n",
       "      <td>2.605513e+08</td>\n",
       "      <td>7.712496e+07</td>\n",
       "      <td>1.015828e+08</td>\n",
       "      <td>1.464197e+08</td>\n",
       "    </tr>\n",
       "    <tr>\n",
       "      <th>Comedy</th>\n",
       "      <td>3.574767e+07</td>\n",
       "      <td>5.909769e+07</td>\n",
       "      <td>2.506183e+08</td>\n",
       "      <td>1.151545e+08</td>\n",
       "    </tr>\n",
       "    <tr>\n",
       "      <th>Action</th>\n",
       "      <td>1.140820e+08</td>\n",
       "      <td>NaN</td>\n",
       "      <td>NaN</td>\n",
       "      <td>1.140820e+08</td>\n",
       "    </tr>\n",
       "    <tr>\n",
       "      <th>Sci-Fi</th>\n",
       "      <td>5.628631e+07</td>\n",
       "      <td>6.881068e+07</td>\n",
       "      <td>2.088337e+08</td>\n",
       "      <td>1.113102e+08</td>\n",
       "    </tr>\n",
       "    <tr>\n",
       "      <th>Biography</th>\n",
       "      <td>4.086081e+07</td>\n",
       "      <td>4.840822e+07</td>\n",
       "      <td>1.170822e+08</td>\n",
       "      <td>6.878374e+07</td>\n",
       "    </tr>\n",
       "    <tr>\n",
       "      <th>Music</th>\n",
       "      <td>8.570950e+07</td>\n",
       "      <td>3.377460e+07</td>\n",
       "      <td>6.391598e+07</td>\n",
       "      <td>6.113336e+07</td>\n",
       "    </tr>\n",
       "    <tr>\n",
       "      <th>Mystery</th>\n",
       "      <td>4.641415e+07</td>\n",
       "      <td>4.862094e+07</td>\n",
       "      <td>4.116970e+07</td>\n",
       "      <td>4.540160e+07</td>\n",
       "    </tr>\n",
       "    <tr>\n",
       "      <th>Thriller</th>\n",
       "      <td>3.071666e+07</td>\n",
       "      <td>3.849768e+07</td>\n",
       "      <td>6.052194e+07</td>\n",
       "      <td>4.324543e+07</td>\n",
       "    </tr>\n",
       "    <tr>\n",
       "      <th>War</th>\n",
       "      <td>7.341817e+07</td>\n",
       "      <td>1.940707e+07</td>\n",
       "      <td>2.791929e+07</td>\n",
       "      <td>4.024818e+07</td>\n",
       "    </tr>\n",
       "    <tr>\n",
       "      <th>Crime</th>\n",
       "      <td>2.729400e+07</td>\n",
       "      <td>4.103347e+07</td>\n",
       "      <td>5.201195e+07</td>\n",
       "      <td>4.011314e+07</td>\n",
       "    </tr>\n",
       "    <tr>\n",
       "      <th>Drama</th>\n",
       "      <td>2.888918e+07</td>\n",
       "      <td>4.217389e+07</td>\n",
       "      <td>4.656813e+07</td>\n",
       "      <td>3.921040e+07</td>\n",
       "    </tr>\n",
       "    <tr>\n",
       "      <th>Horror</th>\n",
       "      <td>5.465514e+07</td>\n",
       "      <td>3.367315e+07</td>\n",
       "      <td>2.750371e+07</td>\n",
       "      <td>3.861067e+07</td>\n",
       "    </tr>\n",
       "    <tr>\n",
       "      <th>History</th>\n",
       "      <td>NaN</td>\n",
       "      <td>2.809141e+07</td>\n",
       "      <td>4.782971e+07</td>\n",
       "      <td>3.796056e+07</td>\n",
       "    </tr>\n",
       "    <tr>\n",
       "      <th>Documentary</th>\n",
       "      <td>3.729862e+07</td>\n",
       "      <td>4.655366e+07</td>\n",
       "      <td>1.628089e+07</td>\n",
       "      <td>3.337772e+07</td>\n",
       "    </tr>\n",
       "    <tr>\n",
       "      <th>Romance</th>\n",
       "      <td>2.707313e+06</td>\n",
       "      <td>4.937202e+07</td>\n",
       "      <td>3.235058e+07</td>\n",
       "      <td>2.814331e+07</td>\n",
       "    </tr>\n",
       "    <tr>\n",
       "      <th>Sport</th>\n",
       "      <td>-2.637201e+06</td>\n",
       "      <td>1.345388e+07</td>\n",
       "      <td>6.463656e+07</td>\n",
       "      <td>2.515108e+07</td>\n",
       "    </tr>\n",
       "    <tr>\n",
       "      <th>Western</th>\n",
       "      <td>-2.413652e+06</td>\n",
       "      <td>5.532448e+07</td>\n",
       "      <td>1.922091e+07</td>\n",
       "      <td>2.404391e+07</td>\n",
       "    </tr>\n",
       "    <tr>\n",
       "      <th>News</th>\n",
       "      <td>NaN</td>\n",
       "      <td>2.447857e+07</td>\n",
       "      <td>1.610726e+07</td>\n",
       "      <td>2.029291e+07</td>\n",
       "    </tr>\n",
       "    <tr>\n",
       "      <th>Reality-TV</th>\n",
       "      <td>NaN</td>\n",
       "      <td>NaN</td>\n",
       "      <td>-1.000000e+06</td>\n",
       "      <td>-1.000000e+06</td>\n",
       "    </tr>\n",
       "  </tbody>\n",
       "</table>\n",
       "</div>"
      ],
      "text/plain": [
       "             movie_profit  movie_profit_2  movie_profit_3    avg_profit\n",
       "Animation    1.169603e+08    2.452123e+08    3.222576e+08  2.281434e+08\n",
       "Adventure    1.562744e+08    2.348677e+08             NaN  1.955710e+08\n",
       "Musical      1.875732e+08    1.000713e+08    2.290784e+08  1.722410e+08\n",
       "Fantasy      1.762237e+08    1.231921e+08    1.678300e+08  1.557486e+08\n",
       "Family       2.605513e+08    7.712496e+07    1.015828e+08  1.464197e+08\n",
       "Comedy       3.574767e+07    5.909769e+07    2.506183e+08  1.151545e+08\n",
       "Action       1.140820e+08             NaN             NaN  1.140820e+08\n",
       "Sci-Fi       5.628631e+07    6.881068e+07    2.088337e+08  1.113102e+08\n",
       "Biography    4.086081e+07    4.840822e+07    1.170822e+08  6.878374e+07\n",
       "Music        8.570950e+07    3.377460e+07    6.391598e+07  6.113336e+07\n",
       "Mystery      4.641415e+07    4.862094e+07    4.116970e+07  4.540160e+07\n",
       "Thriller     3.071666e+07    3.849768e+07    6.052194e+07  4.324543e+07\n",
       "War          7.341817e+07    1.940707e+07    2.791929e+07  4.024818e+07\n",
       "Crime        2.729400e+07    4.103347e+07    5.201195e+07  4.011314e+07\n",
       "Drama        2.888918e+07    4.217389e+07    4.656813e+07  3.921040e+07\n",
       "Horror       5.465514e+07    3.367315e+07    2.750371e+07  3.861067e+07\n",
       "History               NaN    2.809141e+07    4.782971e+07  3.796056e+07\n",
       "Documentary  3.729862e+07    4.655366e+07    1.628089e+07  3.337772e+07\n",
       "Romance      2.707313e+06    4.937202e+07    3.235058e+07  2.814331e+07\n",
       "Sport       -2.637201e+06    1.345388e+07    6.463656e+07  2.515108e+07\n",
       "Western     -2.413652e+06    5.532448e+07    1.922091e+07  2.404391e+07\n",
       "News                  NaN    2.447857e+07    1.610726e+07  2.029291e+07\n",
       "Reality-TV            NaN             NaN   -1.000000e+06 -1.000000e+06"
      ]
     },
     "execution_count": 15,
     "metadata": {},
     "output_type": "execute_result"
    }
   ],
   "source": [
    "#Sort DataFrame by overall averages descending\n",
    "profits_df = profits_df.sort_values('avg_profit', ascending=False)\n",
    "profits_df"
   ]
  },
  {
   "cell_type": "markdown",
   "metadata": {},
   "source": [
    "### Representing our Data in a Plot\n",
    "We will use a bar plot to represent our findings."
   ]
  },
  {
   "cell_type": "code",
   "execution_count": 17,
   "metadata": {
    "ExecuteTime": {
     "end_time": "2021-12-17T03:26:58.789919Z",
     "start_time": "2021-12-17T03:26:58.594102Z"
    }
   },
   "outputs": [
    {
     "data": {
      "image/png": "[encoded data removed]",
      "text/plain": [
       "<Figure size 864x576 with 1 Axes>"
      ]
     },
     "metadata": {},
     "output_type": "display_data"
    }
   ],
   "source": [
    "#Create a barplot to show the relationship between genre and average profit\n",
    "sns.set(rc={'figure.figsize':(12,8)},\n",
    "        font_scale=2)\n",
    "p = sns.barplot(data = profits_df, \n",
    "                x='avg_profit', \n",
    "                y=profits_df.index, \n",
    "                palette = 'mako')\n",
    "p.set(xlabel = \"Average Profit in 100 Millions\", \n",
    "      ylabel = \"Genre\", \n",
    "      title = \"Average Gross Profit by Genre\");"
   ]
  },
  {
   "cell_type": "markdown",
   "metadata": {},
   "source": [
    "### Findings\n",
    "This graph shows us that the top 5 genres that make the highest profit are Animation, Adventure, Musicals, Fantasy, and Family.  We do need to keep in mind with this graph that movies can have more than one genre."
   ]
  },
  {
   "cell_type": "markdown",
   "metadata": {},
   "source": [
    "## Genre vs ROI\n",
    "### Using a DataFrame from Above\n",
    "Next we will be looking into how genres perform in regards to their return on investment. Because we are still using genre, worldwide gross, and production budget, we can use the genre and profit DataFrame that we have already created."
   ]
  },
  {
   "cell_type": "code",
   "execution_count": 81,
   "metadata": {
    "ExecuteTime": {
     "end_time": "2021-12-17T02:55:53.473953Z",
     "start_time": "2021-12-17T02:55:53.440655Z"
    }
   },
   "outputs": [
    {
     "data": {
      "text/html": [
       "<div>\n",
       "<style scoped>\n",
       "    .dataframe tbody tr th:only-of-type {\n",
       "        vertical-align: middle;\n",
       "    }\n",
       "\n",
       "    .dataframe tbody tr th {\n",
       "        vertical-align: top;\n",
       "    }\n",
       "\n",
       "    .dataframe thead th {\n",
       "        text-align: right;\n",
       "    }\n",
       "</style>\n",
       "<table border=\"1\" class=\"dataframe\">\n",
       "  <thead>\n",
       "    <tr style=\"text-align: right;\">\n",
       "      <th></th>\n",
       "      <th>primary_title</th>\n",
       "      <th>original_title</th>\n",
       "      <th>start_year</th>\n",
       "      <th>runtime_minutes</th>\n",
       "      <th>genres</th>\n",
       "      <th>release_date</th>\n",
       "      <th>movie</th>\n",
       "      <th>production_budget</th>\n",
       "      <th>domestic_gross</th>\n",
       "      <th>worldwide_gross</th>\n",
       "      <th>movie_profit</th>\n",
       "      <th>genre1</th>\n",
       "      <th>genre2</th>\n",
       "      <th>genre3</th>\n",
       "    </tr>\n",
       "  </thead>\n",
       "  <tbody>\n",
       "    <tr>\n",
       "      <th>0</th>\n",
       "      <td>Foodfight!</td>\n",
       "      <td>Foodfight!</td>\n",
       "      <td>2012</td>\n",
       "      <td>91.0</td>\n",
       "      <td>Action,Animation,Comedy</td>\n",
       "      <td>Dec 31, 2012</td>\n",
       "      <td>Foodfight!</td>\n",
       "      <td>45000000</td>\n",
       "      <td>$0</td>\n",
       "      <td>73706</td>\n",
       "      <td>-44926294</td>\n",
       "      <td>Action</td>\n",
       "      <td>Animation</td>\n",
       "      <td>Comedy</td>\n",
       "    </tr>\n",
       "    <tr>\n",
       "      <th>1</th>\n",
       "      <td>Mortal Kombat</td>\n",
       "      <td>Mortal Kombat</td>\n",
       "      <td>2021</td>\n",
       "      <td>NaN</td>\n",
       "      <td>Action,Adventure,Fantasy</td>\n",
       "      <td>Aug 18, 1995</td>\n",
       "      <td>Mortal Kombat</td>\n",
       "      <td>20000000</td>\n",
       "      <td>$70,433,227</td>\n",
       "      <td>122133227</td>\n",
       "      <td>102133227</td>\n",
       "      <td>Action</td>\n",
       "      <td>Adventure</td>\n",
       "      <td>Fantasy</td>\n",
       "    </tr>\n",
       "    <tr>\n",
       "      <th>2</th>\n",
       "      <td>The Overnight</td>\n",
       "      <td>The Overnight</td>\n",
       "      <td>2010</td>\n",
       "      <td>88.0</td>\n",
       "      <td>NaN</td>\n",
       "      <td>Jun 19, 2015</td>\n",
       "      <td>The Overnight</td>\n",
       "      <td>200000</td>\n",
       "      <td>$1,109,808</td>\n",
       "      <td>1165996</td>\n",
       "      <td>965996</td>\n",
       "      <td>NaN</td>\n",
       "      <td>NaN</td>\n",
       "      <td>NaN</td>\n",
       "    </tr>\n",
       "    <tr>\n",
       "      <th>3</th>\n",
       "      <td>The Overnight</td>\n",
       "      <td>The Overnight</td>\n",
       "      <td>2015</td>\n",
       "      <td>79.0</td>\n",
       "      <td>Comedy,Mystery</td>\n",
       "      <td>Jun 19, 2015</td>\n",
       "      <td>The Overnight</td>\n",
       "      <td>200000</td>\n",
       "      <td>$1,109,808</td>\n",
       "      <td>1165996</td>\n",
       "      <td>965996</td>\n",
       "      <td>Comedy</td>\n",
       "      <td>Mystery</td>\n",
       "      <td>None</td>\n",
       "    </tr>\n",
       "    <tr>\n",
       "      <th>4</th>\n",
       "      <td>On the Road</td>\n",
       "      <td>On the Road</td>\n",
       "      <td>2012</td>\n",
       "      <td>124.0</td>\n",
       "      <td>Adventure,Drama,Romance</td>\n",
       "      <td>Mar 22, 2013</td>\n",
       "      <td>On the Road</td>\n",
       "      <td>25000000</td>\n",
       "      <td>$720,828</td>\n",
       "      <td>9313302</td>\n",
       "      <td>-15686698</td>\n",
       "      <td>Adventure</td>\n",
       "      <td>Drama</td>\n",
       "      <td>Romance</td>\n",
       "    </tr>\n",
       "    <tr>\n",
       "      <th>...</th>\n",
       "      <td>...</td>\n",
       "      <td>...</td>\n",
       "      <td>...</td>\n",
       "      <td>...</td>\n",
       "      <td>...</td>\n",
       "      <td>...</td>\n",
       "      <td>...</td>\n",
       "      <td>...</td>\n",
       "      <td>...</td>\n",
       "      <td>...</td>\n",
       "      <td>...</td>\n",
       "      <td>...</td>\n",
       "      <td>...</td>\n",
       "      <td>...</td>\n",
       "    </tr>\n",
       "    <tr>\n",
       "      <th>3810</th>\n",
       "      <td>Fuel</td>\n",
       "      <td>Fuel</td>\n",
       "      <td>2018</td>\n",
       "      <td>NaN</td>\n",
       "      <td>Documentary,Sport</td>\n",
       "      <td>Nov 14, 2008</td>\n",
       "      <td>Fuel</td>\n",
       "      <td>2500000</td>\n",
       "      <td>$174,255</td>\n",
       "      <td>174255</td>\n",
       "      <td>-2325745</td>\n",
       "      <td>Documentary</td>\n",
       "      <td>Sport</td>\n",
       "      <td>None</td>\n",
       "    </tr>\n",
       "    <tr>\n",
       "      <th>3811</th>\n",
       "      <td>Diner</td>\n",
       "      <td>Diner</td>\n",
       "      <td>2019</td>\n",
       "      <td>NaN</td>\n",
       "      <td>Crime</td>\n",
       "      <td>Apr 2, 1982</td>\n",
       "      <td>Diner</td>\n",
       "      <td>5000000</td>\n",
       "      <td>$12,592,907</td>\n",
       "      <td>12592907</td>\n",
       "      <td>7592907</td>\n",
       "      <td>Crime</td>\n",
       "      <td>None</td>\n",
       "      <td>None</td>\n",
       "    </tr>\n",
       "    <tr>\n",
       "      <th>3812</th>\n",
       "      <td>Traitor</td>\n",
       "      <td>Traitor</td>\n",
       "      <td>2015</td>\n",
       "      <td>110.0</td>\n",
       "      <td>Action,Drama,Romance</td>\n",
       "      <td>Aug 27, 2008</td>\n",
       "      <td>Traitor</td>\n",
       "      <td>22000000</td>\n",
       "      <td>$23,530,831</td>\n",
       "      <td>27882226</td>\n",
       "      <td>5882226</td>\n",
       "      <td>Action</td>\n",
       "      <td>Drama</td>\n",
       "      <td>Romance</td>\n",
       "    </tr>\n",
       "    <tr>\n",
       "      <th>3813</th>\n",
       "      <td>Ray</td>\n",
       "      <td>Ray</td>\n",
       "      <td>2018</td>\n",
       "      <td>111.0</td>\n",
       "      <td>Crime</td>\n",
       "      <td>Oct 29, 2004</td>\n",
       "      <td>Ray</td>\n",
       "      <td>40000000</td>\n",
       "      <td>$75,305,995</td>\n",
       "      <td>124823094</td>\n",
       "      <td>84823094</td>\n",
       "      <td>Crime</td>\n",
       "      <td>None</td>\n",
       "      <td>None</td>\n",
       "    </tr>\n",
       "    <tr>\n",
       "      <th>3814</th>\n",
       "      <td>Sublime</td>\n",
       "      <td>Sublime</td>\n",
       "      <td>2019</td>\n",
       "      <td>NaN</td>\n",
       "      <td>Documentary</td>\n",
       "      <td>Mar 13, 2007</td>\n",
       "      <td>Sublime</td>\n",
       "      <td>1800000</td>\n",
       "      <td>$0</td>\n",
       "      <td>0</td>\n",
       "      <td>-1800000</td>\n",
       "      <td>Documentary</td>\n",
       "      <td>None</td>\n",
       "      <td>None</td>\n",
       "    </tr>\n",
       "  </tbody>\n",
       "</table>\n",
       "<p>3815 rows × 14 columns</p>\n",
       "</div>"
      ],
      "text/plain": [
       "      primary_title original_title  start_year  runtime_minutes  \\\n",
       "0        Foodfight!     Foodfight!        2012             91.0   \n",
       "1     Mortal Kombat  Mortal Kombat        2021              NaN   \n",
       "2     The Overnight  The Overnight        2010             88.0   \n",
       "3     The Overnight  The Overnight        2015             79.0   \n",
       "4       On the Road    On the Road        2012            124.0   \n",
       "...             ...            ...         ...              ...   \n",
       "3810           Fuel           Fuel        2018              NaN   \n",
       "3811          Diner          Diner        2019              NaN   \n",
       "3812        Traitor        Traitor        2015            110.0   \n",
       "3813            Ray            Ray        2018            111.0   \n",
       "3814        Sublime        Sublime        2019              NaN   \n",
       "\n",
       "                        genres  release_date          movie  \\\n",
       "0      Action,Animation,Comedy  Dec 31, 2012     Foodfight!   \n",
       "1     Action,Adventure,Fantasy  Aug 18, 1995  Mortal Kombat   \n",
       "2                          NaN  Jun 19, 2015  The Overnight   \n",
       "3               Comedy,Mystery  Jun 19, 2015  The Overnight   \n",
       "4      Adventure,Drama,Romance  Mar 22, 2013    On the Road   \n",
       "...                        ...           ...            ...   \n",
       "3810         Documentary,Sport  Nov 14, 2008           Fuel   \n",
       "3811                     Crime   Apr 2, 1982          Diner   \n",
       "3812      Action,Drama,Romance  Aug 27, 2008        Traitor   \n",
       "3813                     Crime  Oct 29, 2004            Ray   \n",
       "3814               Documentary  Mar 13, 2007        Sublime   \n",
       "\n",
       "      production_budget domestic_gross  worldwide_gross  movie_profit  \\\n",
       "0              45000000             $0            73706     -44926294   \n",
       "1              20000000    $70,433,227        122133227     102133227   \n",
       "2                200000     $1,109,808          1165996        965996   \n",
       "3                200000     $1,109,808          1165996        965996   \n",
       "4              25000000       $720,828          9313302     -15686698   \n",
       "...                 ...            ...              ...           ...   \n",
       "3810            2500000       $174,255           174255      -2325745   \n",
       "3811            5000000    $12,592,907         12592907       7592907   \n",
       "3812           22000000    $23,530,831         27882226       5882226   \n",
       "3813           40000000    $75,305,995        124823094      84823094   \n",
       "3814            1800000             $0                0      -1800000   \n",
       "\n",
       "           genre1     genre2   genre3  \n",
       "0          Action  Animation   Comedy  \n",
       "1          Action  Adventure  Fantasy  \n",
       "2             NaN        NaN      NaN  \n",
       "3          Comedy    Mystery     None  \n",
       "4       Adventure      Drama  Romance  \n",
       "...           ...        ...      ...  \n",
       "3810  Documentary      Sport     None  \n",
       "3811        Crime       None     None  \n",
       "3812       Action      Drama  Romance  \n",
       "3813        Crime       None     None  \n",
       "3814  Documentary       None     None  \n",
       "\n",
       "[3815 rows x 14 columns]"
      ]
     },
     "execution_count": 81,
     "metadata": {},
     "output_type": "execute_result"
    }
   ],
   "source": [
    "#We can start this process by using a DataFrame that we created above\n",
    "genre_and_profit_df"
   ]
  },
  {
   "cell_type": "markdown",
   "metadata": {},
   "source": [
    "### Streamlining our Sample Size\n",
    "In this example, we will be looking at revenue (Worldwide Gross) as a percentage of cost (Production Budget).  I will be assuming that Microsoft, being a large corporation, has a large budget for their own production.  Because of this, I will be removing the data that falls into the first quartile of Production Budget."
   ]
  },
  {
   "cell_type": "code",
   "execution_count": 82,
   "metadata": {
    "ExecuteTime": {
     "end_time": "2021-12-17T02:55:53.824583Z",
     "start_time": "2021-12-17T02:55:53.808585Z"
    }
   },
   "outputs": [
    {
     "data": {
      "text/plain": [
       "count    3.815000e+03\n",
       "mean     3.260818e+07\n",
       "std      4.495916e+07\n",
       "min      1.400000e+03\n",
       "25%      4.500000e+06\n",
       "50%      1.600000e+07\n",
       "75%      4.000000e+07\n",
       "max      4.250000e+08\n",
       "Name: production_budget, dtype: float64"
      ]
     },
     "execution_count": 82,
     "metadata": {},
     "output_type": "execute_result"
    }
   ],
   "source": [
    "#Find the quartiles for Production Budget\n",
    "genre_and_profit_df['production_budget'].describe()"
   ]
  },
  {
   "cell_type": "code",
   "execution_count": 83,
   "metadata": {
    "ExecuteTime": {
     "end_time": "2021-12-17T02:55:53.991152Z",
     "start_time": "2021-12-17T02:55:53.983484Z"
    }
   },
   "outputs": [],
   "source": [
    "#Remove data the has a Production Budget in the first quartile\n",
    "genre_and_profit_df = genre_and_profit_df[\n",
    "                                          genre_and_profit_df[\n",
    "                                              'production_budget'] >= 4500000]"
   ]
  },
  {
   "cell_type": "markdown",
   "metadata": {},
   "source": [
    "### Manipulating our Data to Find ROI by Genre\n",
    "We will be following the same format that we did when finding the profit for each genre to find the ROI."
   ]
  },
  {
   "cell_type": "code",
   "execution_count": 84,
   "metadata": {
    "ExecuteTime": {
     "end_time": "2021-12-17T02:55:54.339209Z",
     "start_time": "2021-12-17T02:55:54.330266Z"
    }
   },
   "outputs": [
    {
     "name": "stderr",
     "output_type": "stream",
     "text": [
      "<ipython-input-84-85dc08784722>:2: SettingWithCopyWarning: \n",
      "A value is trying to be set on a copy of a slice from a DataFrame.\n",
      "Try using .loc[row_indexer,col_indexer] = value instead\n",
      "\n",
      "See the caveats in the documentation: https://pandas.pydata.org/pandas-docs/stable/user_guide/indexing.html#returning-a-view-versus-a-copy\n",
      "  genre_and_profit_df['movie_profit_percent'] = (genre_and_profit_df[\n"
     ]
    }
   ],
   "source": [
    "#Create a column with ROIs\n",
    "genre_and_profit_df['movie_profit_percent'] = (genre_and_profit_df[\n",
    "    'movie_profit'] / genre_and_profit_df['production_budget'])*100"
   ]
  },
  {
   "cell_type": "code",
   "execution_count": 85,
   "metadata": {
    "ExecuteTime": {
     "end_time": "2021-12-17T02:55:54.547306Z",
     "start_time": "2021-12-17T02:55:54.523197Z"
    }
   },
   "outputs": [],
   "source": [
    "#Follow the same format as above\n",
    "#Create DataFrames with genre averages\n",
    "genre1_df = genre_and_profit_df.groupby('genre1').mean()\n",
    "genre2_df = genre_and_profit_df.groupby('genre2').mean()\n",
    "genre3_df = genre_and_profit_df.groupby('genre3').mean()"
   ]
  },
  {
   "cell_type": "code",
   "execution_count": 86,
   "metadata": {
    "ExecuteTime": {
     "end_time": "2021-12-17T02:55:54.709058Z",
     "start_time": "2021-12-17T02:55:54.697314Z"
    }
   },
   "outputs": [],
   "source": [
    "#Join the genre DataFrames\n",
    "two_joined_df = genre1_df.join(genre2_df, how='outer', rsuffix='_2')"
   ]
  },
  {
   "cell_type": "code",
   "execution_count": 87,
   "metadata": {
    "ExecuteTime": {
     "end_time": "2021-12-17T02:55:54.874908Z",
     "start_time": "2021-12-17T02:55:54.862533Z"
    }
   },
   "outputs": [],
   "source": [
    "three_joined_df = two_joined_df.join(genre3_df, how='outer', rsuffix='_3')"
   ]
  },
  {
   "cell_type": "code",
   "execution_count": 88,
   "metadata": {
    "ExecuteTime": {
     "end_time": "2021-12-17T02:55:55.061910Z",
     "start_time": "2021-12-17T02:55:55.039707Z"
    }
   },
   "outputs": [
    {
     "data": {
      "text/html": [
       "<div>\n",
       "<style scoped>\n",
       "    .dataframe tbody tr th:only-of-type {\n",
       "        vertical-align: middle;\n",
       "    }\n",
       "\n",
       "    .dataframe tbody tr th {\n",
       "        vertical-align: top;\n",
       "    }\n",
       "\n",
       "    .dataframe thead th {\n",
       "        text-align: right;\n",
       "    }\n",
       "</style>\n",
       "<table border=\"1\" class=\"dataframe\">\n",
       "  <thead>\n",
       "    <tr style=\"text-align: right;\">\n",
       "      <th></th>\n",
       "      <th>movie_profit_percent</th>\n",
       "      <th>movie_profit_percent_2</th>\n",
       "      <th>movie_profit_percent_3</th>\n",
       "    </tr>\n",
       "  </thead>\n",
       "  <tbody>\n",
       "    <tr>\n",
       "      <th>Action</th>\n",
       "      <td>175.918971</td>\n",
       "      <td>NaN</td>\n",
       "      <td>NaN</td>\n",
       "    </tr>\n",
       "    <tr>\n",
       "      <th>Adventure</th>\n",
       "      <td>201.490565</td>\n",
       "      <td>197.396352</td>\n",
       "      <td>NaN</td>\n",
       "    </tr>\n",
       "    <tr>\n",
       "      <th>Animation</th>\n",
       "      <td>244.987200</td>\n",
       "      <td>252.907128</td>\n",
       "      <td>310.098117</td>\n",
       "    </tr>\n",
       "    <tr>\n",
       "      <th>Biography</th>\n",
       "      <td>160.609844</td>\n",
       "      <td>329.840498</td>\n",
       "      <td>136.653044</td>\n",
       "    </tr>\n",
       "    <tr>\n",
       "      <th>Comedy</th>\n",
       "      <td>202.238350</td>\n",
       "      <td>158.137928</td>\n",
       "      <td>291.242626</td>\n",
       "    </tr>\n",
       "    <tr>\n",
       "      <th>Crime</th>\n",
       "      <td>145.205383</td>\n",
       "      <td>116.346619</td>\n",
       "      <td>115.242846</td>\n",
       "    </tr>\n",
       "    <tr>\n",
       "      <th>Documentary</th>\n",
       "      <td>166.416887</td>\n",
       "      <td>136.207370</td>\n",
       "      <td>92.772742</td>\n",
       "    </tr>\n",
       "    <tr>\n",
       "      <th>Drama</th>\n",
       "      <td>184.528308</td>\n",
       "      <td>198.468481</td>\n",
       "      <td>158.909251</td>\n",
       "    </tr>\n",
       "    <tr>\n",
       "      <th>Family</th>\n",
       "      <td>589.196920</td>\n",
       "      <td>132.977982</td>\n",
       "      <td>233.214842</td>\n",
       "    </tr>\n",
       "    <tr>\n",
       "      <th>Fantasy</th>\n",
       "      <td>258.895682</td>\n",
       "      <td>424.500290</td>\n",
       "      <td>153.880238</td>\n",
       "    </tr>\n",
       "    <tr>\n",
       "      <th>History</th>\n",
       "      <td>NaN</td>\n",
       "      <td>45.467581</td>\n",
       "      <td>132.812877</td>\n",
       "    </tr>\n",
       "    <tr>\n",
       "      <th>Horror</th>\n",
       "      <td>459.349143</td>\n",
       "      <td>279.649500</td>\n",
       "      <td>128.543949</td>\n",
       "    </tr>\n",
       "    <tr>\n",
       "      <th>Music</th>\n",
       "      <td>164.872179</td>\n",
       "      <td>239.149159</td>\n",
       "      <td>375.511411</td>\n",
       "    </tr>\n",
       "    <tr>\n",
       "      <th>Musical</th>\n",
       "      <td>298.476178</td>\n",
       "      <td>92.251002</td>\n",
       "      <td>769.898559</td>\n",
       "    </tr>\n",
       "    <tr>\n",
       "      <th>Mystery</th>\n",
       "      <td>215.093423</td>\n",
       "      <td>473.325417</td>\n",
       "      <td>265.193757</td>\n",
       "    </tr>\n",
       "    <tr>\n",
       "      <th>News</th>\n",
       "      <td>NaN</td>\n",
       "      <td>45.794550</td>\n",
       "      <td>289.421483</td>\n",
       "    </tr>\n",
       "    <tr>\n",
       "      <th>Romance</th>\n",
       "      <td>124.038153</td>\n",
       "      <td>235.233474</td>\n",
       "      <td>193.730917</td>\n",
       "    </tr>\n",
       "    <tr>\n",
       "      <th>Sci-Fi</th>\n",
       "      <td>242.320145</td>\n",
       "      <td>236.644306</td>\n",
       "      <td>227.234316</td>\n",
       "    </tr>\n",
       "    <tr>\n",
       "      <th>Sport</th>\n",
       "      <td>-35.016841</td>\n",
       "      <td>59.885589</td>\n",
       "      <td>425.076456</td>\n",
       "    </tr>\n",
       "    <tr>\n",
       "      <th>Thriller</th>\n",
       "      <td>135.159467</td>\n",
       "      <td>205.947940</td>\n",
       "      <td>283.616823</td>\n",
       "    </tr>\n",
       "    <tr>\n",
       "      <th>War</th>\n",
       "      <td>158.767495</td>\n",
       "      <td>320.133542</td>\n",
       "      <td>62.876425</td>\n",
       "    </tr>\n",
       "    <tr>\n",
       "      <th>Western</th>\n",
       "      <td>51.344446</td>\n",
       "      <td>92.399659</td>\n",
       "      <td>33.915030</td>\n",
       "    </tr>\n",
       "  </tbody>\n",
       "</table>\n",
       "</div>"
      ],
      "text/plain": [
       "             movie_profit_percent  movie_profit_percent_2  \\\n",
       "Action                 175.918971                     NaN   \n",
       "Adventure              201.490565              197.396352   \n",
       "Animation              244.987200              252.907128   \n",
       "Biography              160.609844              329.840498   \n",
       "Comedy                 202.238350              158.137928   \n",
       "Crime                  145.205383              116.346619   \n",
       "Documentary            166.416887              136.207370   \n",
       "Drama                  184.528308              198.468481   \n",
       "Family                 589.196920              132.977982   \n",
       "Fantasy                258.895682              424.500290   \n",
       "History                       NaN               45.467581   \n",
       "Horror                 459.349143              279.649500   \n",
       "Music                  164.872179              239.149159   \n",
       "Musical                298.476178               92.251002   \n",
       "Mystery                215.093423              473.325417   \n",
       "News                          NaN               45.794550   \n",
       "Romance                124.038153              235.233474   \n",
       "Sci-Fi                 242.320145              236.644306   \n",
       "Sport                  -35.016841               59.885589   \n",
       "Thriller               135.159467              205.947940   \n",
       "War                    158.767495              320.133542   \n",
       "Western                 51.344446               92.399659   \n",
       "\n",
       "             movie_profit_percent_3  \n",
       "Action                          NaN  \n",
       "Adventure                       NaN  \n",
       "Animation                310.098117  \n",
       "Biography                136.653044  \n",
       "Comedy                   291.242626  \n",
       "Crime                    115.242846  \n",
       "Documentary               92.772742  \n",
       "Drama                    158.909251  \n",
       "Family                   233.214842  \n",
       "Fantasy                  153.880238  \n",
       "History                  132.812877  \n",
       "Horror                   128.543949  \n",
       "Music                    375.511411  \n",
       "Musical                  769.898559  \n",
       "Mystery                  265.193757  \n",
       "News                     289.421483  \n",
       "Romance                  193.730917  \n",
       "Sci-Fi                   227.234316  \n",
       "Sport                    425.076456  \n",
       "Thriller                 283.616823  \n",
       "War                       62.876425  \n",
       "Western                   33.915030  "
      ]
     },
     "execution_count": 88,
     "metadata": {},
     "output_type": "execute_result"
    }
   ],
   "source": [
    "#Create a DataFrame with only the necessary columns\n",
    "profits_df = three_joined_df.filter(['movie_profit_percent', \n",
    "                                     'movie_profit_percent_2', \n",
    "                                     'movie_profit_percent_3'])\n",
    "profits_df"
   ]
  },
  {
   "cell_type": "code",
   "execution_count": 89,
   "metadata": {
    "ExecuteTime": {
     "end_time": "2021-12-17T02:55:55.236198Z",
     "start_time": "2021-12-17T02:55:55.229028Z"
    }
   },
   "outputs": [],
   "source": [
    "#Create a column with overall ROIs\n",
    "profits_df['avg_percent'] = profits_df.mean(axis=1)"
   ]
  },
  {
   "cell_type": "code",
   "execution_count": 90,
   "metadata": {
    "ExecuteTime": {
     "end_time": "2021-12-17T02:55:55.436301Z",
     "start_time": "2021-12-17T02:55:55.413956Z"
    }
   },
   "outputs": [
    {
     "data": {
      "text/html": [
       "<div>\n",
       "<style scoped>\n",
       "    .dataframe tbody tr th:only-of-type {\n",
       "        vertical-align: middle;\n",
       "    }\n",
       "\n",
       "    .dataframe tbody tr th {\n",
       "        vertical-align: top;\n",
       "    }\n",
       "\n",
       "    .dataframe thead th {\n",
       "        text-align: right;\n",
       "    }\n",
       "</style>\n",
       "<table border=\"1\" class=\"dataframe\">\n",
       "  <thead>\n",
       "    <tr style=\"text-align: right;\">\n",
       "      <th></th>\n",
       "      <th>movie_profit_percent</th>\n",
       "      <th>movie_profit_percent_2</th>\n",
       "      <th>movie_profit_percent_3</th>\n",
       "      <th>avg_percent</th>\n",
       "    </tr>\n",
       "  </thead>\n",
       "  <tbody>\n",
       "    <tr>\n",
       "      <th>Musical</th>\n",
       "      <td>298.476178</td>\n",
       "      <td>92.251002</td>\n",
       "      <td>769.898559</td>\n",
       "      <td>386.875246</td>\n",
       "    </tr>\n",
       "    <tr>\n",
       "      <th>Family</th>\n",
       "      <td>589.196920</td>\n",
       "      <td>132.977982</td>\n",
       "      <td>233.214842</td>\n",
       "      <td>318.463248</td>\n",
       "    </tr>\n",
       "    <tr>\n",
       "      <th>Mystery</th>\n",
       "      <td>215.093423</td>\n",
       "      <td>473.325417</td>\n",
       "      <td>265.193757</td>\n",
       "      <td>317.870866</td>\n",
       "    </tr>\n",
       "    <tr>\n",
       "      <th>Horror</th>\n",
       "      <td>459.349143</td>\n",
       "      <td>279.649500</td>\n",
       "      <td>128.543949</td>\n",
       "      <td>289.180864</td>\n",
       "    </tr>\n",
       "    <tr>\n",
       "      <th>Fantasy</th>\n",
       "      <td>258.895682</td>\n",
       "      <td>424.500290</td>\n",
       "      <td>153.880238</td>\n",
       "      <td>279.092070</td>\n",
       "    </tr>\n",
       "    <tr>\n",
       "      <th>Animation</th>\n",
       "      <td>244.987200</td>\n",
       "      <td>252.907128</td>\n",
       "      <td>310.098117</td>\n",
       "      <td>269.330815</td>\n",
       "    </tr>\n",
       "    <tr>\n",
       "      <th>Music</th>\n",
       "      <td>164.872179</td>\n",
       "      <td>239.149159</td>\n",
       "      <td>375.511411</td>\n",
       "      <td>259.844249</td>\n",
       "    </tr>\n",
       "    <tr>\n",
       "      <th>Sci-Fi</th>\n",
       "      <td>242.320145</td>\n",
       "      <td>236.644306</td>\n",
       "      <td>227.234316</td>\n",
       "      <td>235.399589</td>\n",
       "    </tr>\n",
       "    <tr>\n",
       "      <th>Comedy</th>\n",
       "      <td>202.238350</td>\n",
       "      <td>158.137928</td>\n",
       "      <td>291.242626</td>\n",
       "      <td>217.206301</td>\n",
       "    </tr>\n",
       "    <tr>\n",
       "      <th>Biography</th>\n",
       "      <td>160.609844</td>\n",
       "      <td>329.840498</td>\n",
       "      <td>136.653044</td>\n",
       "      <td>209.034462</td>\n",
       "    </tr>\n",
       "    <tr>\n",
       "      <th>Thriller</th>\n",
       "      <td>135.159467</td>\n",
       "      <td>205.947940</td>\n",
       "      <td>283.616823</td>\n",
       "      <td>208.241410</td>\n",
       "    </tr>\n",
       "    <tr>\n",
       "      <th>Adventure</th>\n",
       "      <td>201.490565</td>\n",
       "      <td>197.396352</td>\n",
       "      <td>NaN</td>\n",
       "      <td>199.443459</td>\n",
       "    </tr>\n",
       "    <tr>\n",
       "      <th>Romance</th>\n",
       "      <td>124.038153</td>\n",
       "      <td>235.233474</td>\n",
       "      <td>193.730917</td>\n",
       "      <td>184.334181</td>\n",
       "    </tr>\n",
       "    <tr>\n",
       "      <th>Drama</th>\n",
       "      <td>184.528308</td>\n",
       "      <td>198.468481</td>\n",
       "      <td>158.909251</td>\n",
       "      <td>180.635347</td>\n",
       "    </tr>\n",
       "    <tr>\n",
       "      <th>War</th>\n",
       "      <td>158.767495</td>\n",
       "      <td>320.133542</td>\n",
       "      <td>62.876425</td>\n",
       "      <td>180.592487</td>\n",
       "    </tr>\n",
       "    <tr>\n",
       "      <th>Action</th>\n",
       "      <td>175.918971</td>\n",
       "      <td>NaN</td>\n",
       "      <td>NaN</td>\n",
       "      <td>175.918971</td>\n",
       "    </tr>\n",
       "    <tr>\n",
       "      <th>News</th>\n",
       "      <td>NaN</td>\n",
       "      <td>45.794550</td>\n",
       "      <td>289.421483</td>\n",
       "      <td>167.608016</td>\n",
       "    </tr>\n",
       "    <tr>\n",
       "      <th>Sport</th>\n",
       "      <td>-35.016841</td>\n",
       "      <td>59.885589</td>\n",
       "      <td>425.076456</td>\n",
       "      <td>149.981735</td>\n",
       "    </tr>\n",
       "    <tr>\n",
       "      <th>Documentary</th>\n",
       "      <td>166.416887</td>\n",
       "      <td>136.207370</td>\n",
       "      <td>92.772742</td>\n",
       "      <td>131.799000</td>\n",
       "    </tr>\n",
       "    <tr>\n",
       "      <th>Crime</th>\n",
       "      <td>145.205383</td>\n",
       "      <td>116.346619</td>\n",
       "      <td>115.242846</td>\n",
       "      <td>125.598283</td>\n",
       "    </tr>\n",
       "    <tr>\n",
       "      <th>History</th>\n",
       "      <td>NaN</td>\n",
       "      <td>45.467581</td>\n",
       "      <td>132.812877</td>\n",
       "      <td>89.140229</td>\n",
       "    </tr>\n",
       "    <tr>\n",
       "      <th>Western</th>\n",
       "      <td>51.344446</td>\n",
       "      <td>92.399659</td>\n",
       "      <td>33.915030</td>\n",
       "      <td>59.219712</td>\n",
       "    </tr>\n",
       "  </tbody>\n",
       "</table>\n",
       "</div>"
      ],
      "text/plain": [
       "             movie_profit_percent  movie_profit_percent_2  \\\n",
       "Musical                298.476178               92.251002   \n",
       "Family                 589.196920              132.977982   \n",
       "Mystery                215.093423              473.325417   \n",
       "Horror                 459.349143              279.649500   \n",
       "Fantasy                258.895682              424.500290   \n",
       "Animation              244.987200              252.907128   \n",
       "Music                  164.872179              239.149159   \n",
       "Sci-Fi                 242.320145              236.644306   \n",
       "Comedy                 202.238350              158.137928   \n",
       "Biography              160.609844              329.840498   \n",
       "Thriller               135.159467              205.947940   \n",
       "Adventure              201.490565              197.396352   \n",
       "Romance                124.038153              235.233474   \n",
       "Drama                  184.528308              198.468481   \n",
       "War                    158.767495              320.133542   \n",
       "Action                 175.918971                     NaN   \n",
       "News                          NaN               45.794550   \n",
       "Sport                  -35.016841               59.885589   \n",
       "Documentary            166.416887              136.207370   \n",
       "Crime                  145.205383              116.346619   \n",
       "History                       NaN               45.467581   \n",
       "Western                 51.344446               92.399659   \n",
       "\n",
       "             movie_profit_percent_3  avg_percent  \n",
       "Musical                  769.898559   386.875246  \n",
       "Family                   233.214842   318.463248  \n",
       "Mystery                  265.193757   317.870866  \n",
       "Horror                   128.543949   289.180864  \n",
       "Fantasy                  153.880238   279.092070  \n",
       "Animation                310.098117   269.330815  \n",
       "Music                    375.511411   259.844249  \n",
       "Sci-Fi                   227.234316   235.399589  \n",
       "Comedy                   291.242626   217.206301  \n",
       "Biography                136.653044   209.034462  \n",
       "Thriller                 283.616823   208.241410  \n",
       "Adventure                       NaN   199.443459  \n",
       "Romance                  193.730917   184.334181  \n",
       "Drama                    158.909251   180.635347  \n",
       "War                       62.876425   180.592487  \n",
       "Action                          NaN   175.918971  \n",
       "News                     289.421483   167.608016  \n",
       "Sport                    425.076456   149.981735  \n",
       "Documentary               92.772742   131.799000  \n",
       "Crime                    115.242846   125.598283  \n",
       "History                  132.812877    89.140229  \n",
       "Western                   33.915030    59.219712  "
      ]
     },
     "execution_count": 90,
     "metadata": {},
     "output_type": "execute_result"
    }
   ],
   "source": [
    "#Sort DataFrame by overall ROIs descending\n",
    "profits_df = profits_df.sort_values('avg_percent', ascending = False)\n",
    "profits_df"
   ]
  },
  {
   "cell_type": "markdown",
   "metadata": {},
   "source": [
    "### Representing our Data in a Plot\n",
    "We will again use a bar plot to represent our findings."
   ]
  },
  {
   "cell_type": "code",
   "execution_count": 91,
   "metadata": {
    "ExecuteTime": {
     "end_time": "2021-12-17T02:55:55.999480Z",
     "start_time": "2021-12-17T02:55:55.797576Z"
    },
    "scrolled": true
   },
   "outputs": [
    {
     "data": {
      "image/png": "[encoded data removed]",
      "text/plain": [
       "<Figure size 864x576 with 1 Axes>"
      ]
     },
     "metadata": {},
     "output_type": "display_data"
    }
   ],
   "source": [
    "#Create a barplot to show the relationship between genre and average ROI\n",
    "sns.set(rc={'figure.figsize':(12,8)},\n",
    "        font_scale=2)\n",
    "p2 = sns.barplot(data = profits_df, \n",
    "                 x='avg_percent', \n",
    "                 y=profits_df.index,\n",
    "                 palette = 'mako')\n",
    "p2.set(xlabel=\"Profit Percentage (ROI)\", \n",
    "       ylabel='Genre', \n",
    "       title='Return on Investment by Genre');"
   ]
  },
  {
   "cell_type": "markdown",
   "metadata": {},
   "source": [
    "### Findings\n",
    "This graph illustrates that the top 5 genres with the highest return on investment are Musicals, Family, Mystery, Horror, and Fantasy."
   ]
  },
  {
   "cell_type": "markdown",
   "metadata": {},
   "source": [
    "## Overall Findings\n",
    "The genres that appear in the top 5 for both categories are Family, Fantasy, and Musicals.  Animation and Adventure seem to do really well profit wise, but cost more to produce.  Alternately, Horror and Fantasy have a high ROI, but don't seem to do as well at the box office.  It is important to keep in mind that each movie can have up to three different genres."
   ]
  },
  {
   "cell_type": "markdown",
   "metadata": {},
   "source": [
    "# Find the Best Month to Release a Movie\n",
    "Next we will be looking into how the release month effects the revenue generated by a film.  We will be looking at release months for each year since 2010 and will be comparing them to the worldwide gross to get an idea of how profitable each month is.\n",
    "## Creating and Merging the DataFrames\n",
    "For this example, we will again be using the imdb title basics table and the tn movie budgets table."
   ]
  },
  {
   "cell_type": "code",
   "execution_count": 92,
   "metadata": {
    "ExecuteTime": {
     "end_time": "2021-12-17T02:55:56.559897Z",
     "start_time": "2021-12-17T02:55:56.541381Z"
    }
   },
   "outputs": [
    {
     "name": "stdout",
     "output_type": "stream",
     "text": [
      "Length: 146144\n"
     ]
    },
    {
     "data": {
      "text/html": [
       "<div>\n",
       "<style scoped>\n",
       "    .dataframe tbody tr th:only-of-type {\n",
       "        vertical-align: middle;\n",
       "    }\n",
       "\n",
       "    .dataframe tbody tr th {\n",
       "        vertical-align: top;\n",
       "    }\n",
       "\n",
       "    .dataframe thead th {\n",
       "        text-align: right;\n",
       "    }\n",
       "</style>\n",
       "<table border=\"1\" class=\"dataframe\">\n",
       "  <thead>\n",
       "    <tr style=\"text-align: right;\">\n",
       "      <th></th>\n",
       "      <th>primary_title</th>\n",
       "      <th>original_title</th>\n",
       "      <th>start_year</th>\n",
       "      <th>runtime_minutes</th>\n",
       "      <th>genres</th>\n",
       "    </tr>\n",
       "    <tr>\n",
       "      <th>tconst</th>\n",
       "      <th></th>\n",
       "      <th></th>\n",
       "      <th></th>\n",
       "      <th></th>\n",
       "      <th></th>\n",
       "    </tr>\n",
       "  </thead>\n",
       "  <tbody>\n",
       "    <tr>\n",
       "      <th>tt0063540</th>\n",
       "      <td>Sunghursh</td>\n",
       "      <td>Sunghursh</td>\n",
       "      <td>2013</td>\n",
       "      <td>175.0</td>\n",
       "      <td>Action,Crime,Drama</td>\n",
       "    </tr>\n",
       "    <tr>\n",
       "      <th>tt0066787</th>\n",
       "      <td>One Day Before the Rainy Season</td>\n",
       "      <td>Ashad Ka Ek Din</td>\n",
       "      <td>2019</td>\n",
       "      <td>114.0</td>\n",
       "      <td>Biography,Drama</td>\n",
       "    </tr>\n",
       "    <tr>\n",
       "      <th>tt0069049</th>\n",
       "      <td>The Other Side of the Wind</td>\n",
       "      <td>The Other Side of the Wind</td>\n",
       "      <td>2018</td>\n",
       "      <td>122.0</td>\n",
       "      <td>Drama</td>\n",
       "    </tr>\n",
       "    <tr>\n",
       "      <th>tt0069204</th>\n",
       "      <td>Sabse Bada Sukh</td>\n",
       "      <td>Sabse Bada Sukh</td>\n",
       "      <td>2018</td>\n",
       "      <td>NaN</td>\n",
       "      <td>Comedy,Drama</td>\n",
       "    </tr>\n",
       "    <tr>\n",
       "      <th>tt0100275</th>\n",
       "      <td>The Wandering Soap Opera</td>\n",
       "      <td>La Telenovela Errante</td>\n",
       "      <td>2017</td>\n",
       "      <td>80.0</td>\n",
       "      <td>Comedy,Drama,Fantasy</td>\n",
       "    </tr>\n",
       "  </tbody>\n",
       "</table>\n",
       "</div>"
      ],
      "text/plain": [
       "                             primary_title              original_title  \\\n",
       "tconst                                                                   \n",
       "tt0063540                        Sunghursh                   Sunghursh   \n",
       "tt0066787  One Day Before the Rainy Season             Ashad Ka Ek Din   \n",
       "tt0069049       The Other Side of the Wind  The Other Side of the Wind   \n",
       "tt0069204                  Sabse Bada Sukh             Sabse Bada Sukh   \n",
       "tt0100275         The Wandering Soap Opera       La Telenovela Errante   \n",
       "\n",
       "           start_year  runtime_minutes                genres  \n",
       "tconst                                                        \n",
       "tt0063540        2013            175.0    Action,Crime,Drama  \n",
       "tt0066787        2019            114.0       Biography,Drama  \n",
       "tt0069049        2018            122.0                 Drama  \n",
       "tt0069204        2018              NaN          Comedy,Drama  \n",
       "tt0100275        2017             80.0  Comedy,Drama,Fantasy  "
      ]
     },
     "execution_count": 92,
     "metadata": {},
     "output_type": "execute_result"
    }
   ],
   "source": [
    "#Create separate DataFrames\n",
    "title_basics_df = csv_files_dict[\"imdb_title_basics_gz\"]\n",
    "print(\"Length:\", len(title_basics_df))\n",
    "title_basics_df.head()"
   ]
  },
  {
   "cell_type": "code",
   "execution_count": 93,
   "metadata": {
    "ExecuteTime": {
     "end_time": "2021-12-17T02:55:56.749254Z",
     "start_time": "2021-12-17T02:55:56.730856Z"
    }
   },
   "outputs": [
    {
     "name": "stdout",
     "output_type": "stream",
     "text": [
      "Length: 5782\n"
     ]
    },
    {
     "data": {
      "text/html": [
       "<div>\n",
       "<style scoped>\n",
       "    .dataframe tbody tr th:only-of-type {\n",
       "        vertical-align: middle;\n",
       "    }\n",
       "\n",
       "    .dataframe tbody tr th {\n",
       "        vertical-align: top;\n",
       "    }\n",
       "\n",
       "    .dataframe thead th {\n",
       "        text-align: right;\n",
       "    }\n",
       "</style>\n",
       "<table border=\"1\" class=\"dataframe\">\n",
       "  <thead>\n",
       "    <tr style=\"text-align: right;\">\n",
       "      <th></th>\n",
       "      <th>release_date</th>\n",
       "      <th>movie</th>\n",
       "      <th>production_budget</th>\n",
       "      <th>domestic_gross</th>\n",
       "      <th>worldwide_gross</th>\n",
       "    </tr>\n",
       "    <tr>\n",
       "      <th>id</th>\n",
       "      <th></th>\n",
       "      <th></th>\n",
       "      <th></th>\n",
       "      <th></th>\n",
       "      <th></th>\n",
       "    </tr>\n",
       "  </thead>\n",
       "  <tbody>\n",
       "    <tr>\n",
       "      <th>1</th>\n",
       "      <td>Dec 18, 2009</td>\n",
       "      <td>Avatar</td>\n",
       "      <td>$425,000,000</td>\n",
       "      <td>$760,507,625</td>\n",
       "      <td>$2,776,345,279</td>\n",
       "    </tr>\n",
       "    <tr>\n",
       "      <th>2</th>\n",
       "      <td>May 20, 2011</td>\n",
       "      <td>Pirates of the Caribbean: On Stranger Tides</td>\n",
       "      <td>$410,600,000</td>\n",
       "      <td>$241,063,875</td>\n",
       "      <td>$1,045,663,875</td>\n",
       "    </tr>\n",
       "    <tr>\n",
       "      <th>3</th>\n",
       "      <td>Jun 7, 2019</td>\n",
       "      <td>Dark Phoenix</td>\n",
       "      <td>$350,000,000</td>\n",
       "      <td>$42,762,350</td>\n",
       "      <td>$149,762,350</td>\n",
       "    </tr>\n",
       "    <tr>\n",
       "      <th>4</th>\n",
       "      <td>May 1, 2015</td>\n",
       "      <td>Avengers: Age of Ultron</td>\n",
       "      <td>$330,600,000</td>\n",
       "      <td>$459,005,868</td>\n",
       "      <td>$1,403,013,963</td>\n",
       "    </tr>\n",
       "    <tr>\n",
       "      <th>5</th>\n",
       "      <td>Dec 15, 2017</td>\n",
       "      <td>Star Wars Ep. VIII: The Last Jedi</td>\n",
       "      <td>$317,000,000</td>\n",
       "      <td>$620,181,382</td>\n",
       "      <td>$1,316,721,747</td>\n",
       "    </tr>\n",
       "  </tbody>\n",
       "</table>\n",
       "</div>"
      ],
      "text/plain": [
       "    release_date                                        movie  \\\n",
       "id                                                              \n",
       "1   Dec 18, 2009                                       Avatar   \n",
       "2   May 20, 2011  Pirates of the Caribbean: On Stranger Tides   \n",
       "3    Jun 7, 2019                                 Dark Phoenix   \n",
       "4    May 1, 2015                      Avengers: Age of Ultron   \n",
       "5   Dec 15, 2017            Star Wars Ep. VIII: The Last Jedi   \n",
       "\n",
       "   production_budget domestic_gross worldwide_gross  \n",
       "id                                                   \n",
       "1       $425,000,000   $760,507,625  $2,776,345,279  \n",
       "2       $410,600,000   $241,063,875  $1,045,663,875  \n",
       "3       $350,000,000    $42,762,350    $149,762,350  \n",
       "4       $330,600,000   $459,005,868  $1,403,013,963  \n",
       "5       $317,000,000   $620,181,382  $1,316,721,747  "
      ]
     },
     "execution_count": 93,
     "metadata": {},
     "output_type": "execute_result"
    }
   ],
   "source": [
    "movie_budgets_df = csv_files_dict[\"tn_movie_budgets_gz\"]\n",
    "print(\"Length:\", len(movie_budgets_df))\n",
    "movie_budgets_df.head()"
   ]
  },
  {
   "cell_type": "code",
   "execution_count": 94,
   "metadata": {
    "ExecuteTime": {
     "end_time": "2021-12-17T02:55:57.001415Z",
     "start_time": "2021-12-17T02:55:56.937663Z"
    }
   },
   "outputs": [
    {
     "data": {
      "text/html": [
       "<div>\n",
       "<style scoped>\n",
       "    .dataframe tbody tr th:only-of-type {\n",
       "        vertical-align: middle;\n",
       "    }\n",
       "\n",
       "    .dataframe tbody tr th {\n",
       "        vertical-align: top;\n",
       "    }\n",
       "\n",
       "    .dataframe thead th {\n",
       "        text-align: right;\n",
       "    }\n",
       "</style>\n",
       "<table border=\"1\" class=\"dataframe\">\n",
       "  <thead>\n",
       "    <tr style=\"text-align: right;\">\n",
       "      <th></th>\n",
       "      <th>primary_title</th>\n",
       "      <th>original_title</th>\n",
       "      <th>start_year</th>\n",
       "      <th>runtime_minutes</th>\n",
       "      <th>genres</th>\n",
       "      <th>release_date</th>\n",
       "      <th>movie</th>\n",
       "      <th>production_budget</th>\n",
       "      <th>domestic_gross</th>\n",
       "      <th>worldwide_gross</th>\n",
       "    </tr>\n",
       "  </thead>\n",
       "  <tbody>\n",
       "    <tr>\n",
       "      <th>0</th>\n",
       "      <td>Foodfight!</td>\n",
       "      <td>Foodfight!</td>\n",
       "      <td>2012</td>\n",
       "      <td>91.0</td>\n",
       "      <td>Action,Animation,Comedy</td>\n",
       "      <td>Dec 31, 2012</td>\n",
       "      <td>Foodfight!</td>\n",
       "      <td>$45,000,000</td>\n",
       "      <td>$0</td>\n",
       "      <td>$73,706</td>\n",
       "    </tr>\n",
       "    <tr>\n",
       "      <th>1</th>\n",
       "      <td>Mortal Kombat</td>\n",
       "      <td>Mortal Kombat</td>\n",
       "      <td>2021</td>\n",
       "      <td>NaN</td>\n",
       "      <td>Action,Adventure,Fantasy</td>\n",
       "      <td>Aug 18, 1995</td>\n",
       "      <td>Mortal Kombat</td>\n",
       "      <td>$20,000,000</td>\n",
       "      <td>$70,433,227</td>\n",
       "      <td>$122,133,227</td>\n",
       "    </tr>\n",
       "    <tr>\n",
       "      <th>2</th>\n",
       "      <td>The Overnight</td>\n",
       "      <td>The Overnight</td>\n",
       "      <td>2010</td>\n",
       "      <td>88.0</td>\n",
       "      <td>NaN</td>\n",
       "      <td>Jun 19, 2015</td>\n",
       "      <td>The Overnight</td>\n",
       "      <td>$200,000</td>\n",
       "      <td>$1,109,808</td>\n",
       "      <td>$1,165,996</td>\n",
       "    </tr>\n",
       "    <tr>\n",
       "      <th>3</th>\n",
       "      <td>The Overnight</td>\n",
       "      <td>The Overnight</td>\n",
       "      <td>2015</td>\n",
       "      <td>79.0</td>\n",
       "      <td>Comedy,Mystery</td>\n",
       "      <td>Jun 19, 2015</td>\n",
       "      <td>The Overnight</td>\n",
       "      <td>$200,000</td>\n",
       "      <td>$1,109,808</td>\n",
       "      <td>$1,165,996</td>\n",
       "    </tr>\n",
       "    <tr>\n",
       "      <th>4</th>\n",
       "      <td>On the Road</td>\n",
       "      <td>On the Road</td>\n",
       "      <td>2012</td>\n",
       "      <td>124.0</td>\n",
       "      <td>Adventure,Drama,Romance</td>\n",
       "      <td>Mar 22, 2013</td>\n",
       "      <td>On the Road</td>\n",
       "      <td>$25,000,000</td>\n",
       "      <td>$720,828</td>\n",
       "      <td>$9,313,302</td>\n",
       "    </tr>\n",
       "  </tbody>\n",
       "</table>\n",
       "</div>"
      ],
      "text/plain": [
       "   primary_title original_title  start_year  runtime_minutes  \\\n",
       "0     Foodfight!     Foodfight!        2012             91.0   \n",
       "1  Mortal Kombat  Mortal Kombat        2021              NaN   \n",
       "2  The Overnight  The Overnight        2010             88.0   \n",
       "3  The Overnight  The Overnight        2015             79.0   \n",
       "4    On the Road    On the Road        2012            124.0   \n",
       "\n",
       "                     genres  release_date          movie production_budget  \\\n",
       "0   Action,Animation,Comedy  Dec 31, 2012     Foodfight!       $45,000,000   \n",
       "1  Action,Adventure,Fantasy  Aug 18, 1995  Mortal Kombat       $20,000,000   \n",
       "2                       NaN  Jun 19, 2015  The Overnight          $200,000   \n",
       "3            Comedy,Mystery  Jun 19, 2015  The Overnight          $200,000   \n",
       "4   Adventure,Drama,Romance  Mar 22, 2013    On the Road       $25,000,000   \n",
       "\n",
       "  domestic_gross worldwide_gross  \n",
       "0             $0         $73,706  \n",
       "1    $70,433,227    $122,133,227  \n",
       "2     $1,109,808      $1,165,996  \n",
       "3     $1,109,808      $1,165,996  \n",
       "4       $720,828      $9,313,302  "
      ]
     },
     "execution_count": 94,
     "metadata": {},
     "output_type": "execute_result"
    }
   ],
   "source": [
    "#Merge the tables\n",
    "merged_df = title_basics_df.merge(movie_budgets_df,\n",
    "                                                 how='inner',\n",
    "                                                 left_on='primary_title',\n",
    "                                                 right_on='movie')\n",
    "merged_df.head()"
   ]
  },
  {
   "cell_type": "markdown",
   "metadata": {},
   "source": [
    "## Cleaning the DataFrame\n",
    "For this example, we want to manipulate the release date column in order to be able to organize our data by month."
   ]
  },
  {
   "cell_type": "code",
   "execution_count": 95,
   "metadata": {
    "ExecuteTime": {
     "end_time": "2021-12-17T02:55:57.322386Z",
     "start_time": "2021-12-17T02:55:57.299707Z"
    },
    "scrolled": true
   },
   "outputs": [
    {
     "data": {
      "text/plain": [
       "<bound method IndexOpsMixin.value_counts of 0       False\n",
       "1       False\n",
       "2       False\n",
       "3       False\n",
       "4       False\n",
       "        ...  \n",
       "3810    False\n",
       "3811    False\n",
       "3812    False\n",
       "3813    False\n",
       "3814    False\n",
       "Length: 3815, dtype: bool>"
      ]
     },
     "execution_count": 95,
     "metadata": {},
     "output_type": "execute_result"
    }
   ],
   "source": [
    "#check for duplicates\n",
    "merged_df.duplicated().value_counts"
   ]
  },
  {
   "cell_type": "code",
   "execution_count": 96,
   "metadata": {
    "ExecuteTime": {
     "end_time": "2021-12-17T02:55:57.501153Z",
     "start_time": "2021-12-17T02:55:57.474793Z"
    }
   },
   "outputs": [
    {
     "data": {
      "text/html": [
       "<div>\n",
       "<style scoped>\n",
       "    .dataframe tbody tr th:only-of-type {\n",
       "        vertical-align: middle;\n",
       "    }\n",
       "\n",
       "    .dataframe tbody tr th {\n",
       "        vertical-align: top;\n",
       "    }\n",
       "\n",
       "    .dataframe thead th {\n",
       "        text-align: right;\n",
       "    }\n",
       "</style>\n",
       "<table border=\"1\" class=\"dataframe\">\n",
       "  <thead>\n",
       "    <tr style=\"text-align: right;\">\n",
       "      <th></th>\n",
       "      <th>primary_title</th>\n",
       "      <th>original_title</th>\n",
       "      <th>start_year</th>\n",
       "      <th>runtime_minutes</th>\n",
       "      <th>genres</th>\n",
       "      <th>release_date</th>\n",
       "      <th>movie</th>\n",
       "      <th>production_budget</th>\n",
       "      <th>domestic_gross</th>\n",
       "      <th>worldwide_gross</th>\n",
       "    </tr>\n",
       "  </thead>\n",
       "  <tbody>\n",
       "    <tr>\n",
       "      <th>0</th>\n",
       "      <td>Foodfight!</td>\n",
       "      <td>Foodfight!</td>\n",
       "      <td>2012</td>\n",
       "      <td>91.0</td>\n",
       "      <td>Action,Animation,Comedy</td>\n",
       "      <td>Dec</td>\n",
       "      <td>Foodfight!</td>\n",
       "      <td>$45,000,000</td>\n",
       "      <td>$0</td>\n",
       "      <td>$73,706</td>\n",
       "    </tr>\n",
       "    <tr>\n",
       "      <th>1</th>\n",
       "      <td>Mortal Kombat</td>\n",
       "      <td>Mortal Kombat</td>\n",
       "      <td>2021</td>\n",
       "      <td>NaN</td>\n",
       "      <td>Action,Adventure,Fantasy</td>\n",
       "      <td>Aug</td>\n",
       "      <td>Mortal Kombat</td>\n",
       "      <td>$20,000,000</td>\n",
       "      <td>$70,433,227</td>\n",
       "      <td>$122,133,227</td>\n",
       "    </tr>\n",
       "    <tr>\n",
       "      <th>2</th>\n",
       "      <td>The Overnight</td>\n",
       "      <td>The Overnight</td>\n",
       "      <td>2010</td>\n",
       "      <td>88.0</td>\n",
       "      <td>NaN</td>\n",
       "      <td>Jun</td>\n",
       "      <td>The Overnight</td>\n",
       "      <td>$200,000</td>\n",
       "      <td>$1,109,808</td>\n",
       "      <td>$1,165,996</td>\n",
       "    </tr>\n",
       "    <tr>\n",
       "      <th>3</th>\n",
       "      <td>The Overnight</td>\n",
       "      <td>The Overnight</td>\n",
       "      <td>2015</td>\n",
       "      <td>79.0</td>\n",
       "      <td>Comedy,Mystery</td>\n",
       "      <td>Jun</td>\n",
       "      <td>The Overnight</td>\n",
       "      <td>$200,000</td>\n",
       "      <td>$1,109,808</td>\n",
       "      <td>$1,165,996</td>\n",
       "    </tr>\n",
       "    <tr>\n",
       "      <th>4</th>\n",
       "      <td>On the Road</td>\n",
       "      <td>On the Road</td>\n",
       "      <td>2012</td>\n",
       "      <td>124.0</td>\n",
       "      <td>Adventure,Drama,Romance</td>\n",
       "      <td>Mar</td>\n",
       "      <td>On the Road</td>\n",
       "      <td>$25,000,000</td>\n",
       "      <td>$720,828</td>\n",
       "      <td>$9,313,302</td>\n",
       "    </tr>\n",
       "  </tbody>\n",
       "</table>\n",
       "</div>"
      ],
      "text/plain": [
       "   primary_title original_title  start_year  runtime_minutes  \\\n",
       "0     Foodfight!     Foodfight!        2012             91.0   \n",
       "1  Mortal Kombat  Mortal Kombat        2021              NaN   \n",
       "2  The Overnight  The Overnight        2010             88.0   \n",
       "3  The Overnight  The Overnight        2015             79.0   \n",
       "4    On the Road    On the Road        2012            124.0   \n",
       "\n",
       "                     genres release_date          movie production_budget  \\\n",
       "0   Action,Animation,Comedy          Dec     Foodfight!       $45,000,000   \n",
       "1  Action,Adventure,Fantasy          Aug  Mortal Kombat       $20,000,000   \n",
       "2                       NaN          Jun  The Overnight          $200,000   \n",
       "3            Comedy,Mystery          Jun  The Overnight          $200,000   \n",
       "4   Adventure,Drama,Romance          Mar    On the Road       $25,000,000   \n",
       "\n",
       "  domestic_gross worldwide_gross  \n",
       "0             $0         $73,706  \n",
       "1    $70,433,227    $122,133,227  \n",
       "2     $1,109,808      $1,165,996  \n",
       "3     $1,109,808      $1,165,996  \n",
       "4       $720,828      $9,313,302  "
      ]
     },
     "execution_count": 96,
     "metadata": {},
     "output_type": "execute_result"
    }
   ],
   "source": [
    "#Manipulate release date to only include the month\n",
    "merged_df['release_date'] = merged_df['release_date'].map(\n",
    "    lambda x: x.split()[0])\n",
    "merged_df.head()"
   ]
  },
  {
   "cell_type": "code",
   "execution_count": 97,
   "metadata": {
    "ExecuteTime": {
     "end_time": "2021-12-17T02:55:57.667465Z",
     "start_time": "2021-12-17T02:55:57.650717Z"
    }
   },
   "outputs": [],
   "source": [
    "#Clean worldwide gross and convert it to an integer\n",
    "merged_df['worldwide_gross'] = merged_df[\n",
    "    'worldwide_gross'].str.replace(\"$\", \"\").str.replace(\",\", \"\").astype(int)"
   ]
  },
  {
   "cell_type": "code",
   "execution_count": 98,
   "metadata": {
    "ExecuteTime": {
     "end_time": "2021-12-17T02:55:57.918475Z",
     "start_time": "2021-12-17T02:55:57.893787Z"
    }
   },
   "outputs": [
    {
     "data": {
      "text/html": [
       "<div>\n",
       "<style scoped>\n",
       "    .dataframe tbody tr th:only-of-type {\n",
       "        vertical-align: middle;\n",
       "    }\n",
       "\n",
       "    .dataframe tbody tr th {\n",
       "        vertical-align: top;\n",
       "    }\n",
       "\n",
       "    .dataframe thead th {\n",
       "        text-align: right;\n",
       "    }\n",
       "</style>\n",
       "<table border=\"1\" class=\"dataframe\">\n",
       "  <thead>\n",
       "    <tr style=\"text-align: right;\">\n",
       "      <th></th>\n",
       "      <th>release_date</th>\n",
       "      <th>start_year</th>\n",
       "      <th>worldwide_gross</th>\n",
       "    </tr>\n",
       "  </thead>\n",
       "  <tbody>\n",
       "    <tr>\n",
       "      <th>0</th>\n",
       "      <td>Dec</td>\n",
       "      <td>2012</td>\n",
       "      <td>73706</td>\n",
       "    </tr>\n",
       "    <tr>\n",
       "      <th>1</th>\n",
       "      <td>Aug</td>\n",
       "      <td>2021</td>\n",
       "      <td>122133227</td>\n",
       "    </tr>\n",
       "    <tr>\n",
       "      <th>2</th>\n",
       "      <td>Jun</td>\n",
       "      <td>2010</td>\n",
       "      <td>1165996</td>\n",
       "    </tr>\n",
       "    <tr>\n",
       "      <th>3</th>\n",
       "      <td>Jun</td>\n",
       "      <td>2015</td>\n",
       "      <td>1165996</td>\n",
       "    </tr>\n",
       "    <tr>\n",
       "      <th>4</th>\n",
       "      <td>Mar</td>\n",
       "      <td>2012</td>\n",
       "      <td>9313302</td>\n",
       "    </tr>\n",
       "    <tr>\n",
       "      <th>...</th>\n",
       "      <td>...</td>\n",
       "      <td>...</td>\n",
       "      <td>...</td>\n",
       "    </tr>\n",
       "    <tr>\n",
       "      <th>3810</th>\n",
       "      <td>Nov</td>\n",
       "      <td>2018</td>\n",
       "      <td>174255</td>\n",
       "    </tr>\n",
       "    <tr>\n",
       "      <th>3811</th>\n",
       "      <td>Apr</td>\n",
       "      <td>2019</td>\n",
       "      <td>12592907</td>\n",
       "    </tr>\n",
       "    <tr>\n",
       "      <th>3812</th>\n",
       "      <td>Aug</td>\n",
       "      <td>2015</td>\n",
       "      <td>27882226</td>\n",
       "    </tr>\n",
       "    <tr>\n",
       "      <th>3813</th>\n",
       "      <td>Oct</td>\n",
       "      <td>2018</td>\n",
       "      <td>124823094</td>\n",
       "    </tr>\n",
       "    <tr>\n",
       "      <th>3814</th>\n",
       "      <td>Mar</td>\n",
       "      <td>2019</td>\n",
       "      <td>0</td>\n",
       "    </tr>\n",
       "  </tbody>\n",
       "</table>\n",
       "<p>3815 rows × 3 columns</p>\n",
       "</div>"
      ],
      "text/plain": [
       "     release_date  start_year  worldwide_gross\n",
       "0             Dec        2012            73706\n",
       "1             Aug        2021        122133227\n",
       "2             Jun        2010          1165996\n",
       "3             Jun        2015          1165996\n",
       "4             Mar        2012          9313302\n",
       "...           ...         ...              ...\n",
       "3810          Nov        2018           174255\n",
       "3811          Apr        2019         12592907\n",
       "3812          Aug        2015         27882226\n",
       "3813          Oct        2018        124823094\n",
       "3814          Mar        2019                0\n",
       "\n",
       "[3815 rows x 3 columns]"
      ]
     },
     "execution_count": 98,
     "metadata": {},
     "output_type": "execute_result"
    }
   ],
   "source": [
    "#Filter the DataFrame to include only needed data\n",
    "month_and_year_df = merged_df.filter(['release_date', \n",
    "                                      'start_year', \n",
    "                                      'worldwide_gross'])\n",
    "month_and_year_df"
   ]
  },
  {
   "cell_type": "markdown",
   "metadata": {},
   "source": [
    "## Ordering our Data by Month\n",
    "To organize our data (and our plot) by month, we have to set up a category so that our code knows the correct month order."
   ]
  },
  {
   "cell_type": "code",
   "execution_count": 99,
   "metadata": {
    "ExecuteTime": {
     "end_time": "2021-12-17T02:55:58.251390Z",
     "start_time": "2021-12-17T02:55:58.240383Z"
    }
   },
   "outputs": [],
   "source": [
    "#Set up a category to order the months\n",
    "months = [\"Jan\", \"Feb\", \"Mar\", \"Apr\", \"May\", \"Jun\", \n",
    "          \"Jul\", \"Aug\", \"Sep\", \"Oct\", \"Nov\", \"Dec\"]\n",
    "month_and_year_df['release_date'] = pd.Categorical(\n",
    "    month_and_year_df['release_date'], categories=months, ordered=True)"
   ]
  },
  {
   "cell_type": "code",
   "execution_count": 100,
   "metadata": {
    "ExecuteTime": {
     "end_time": "2021-12-17T02:55:58.428088Z",
     "start_time": "2021-12-17T02:55:58.422066Z"
    }
   },
   "outputs": [],
   "source": [
    "month_and_year_df.sort_values('release_date', inplace=True)"
   ]
  },
  {
   "cell_type": "markdown",
   "metadata": {},
   "source": [
    "## Removing Incomplete Data Samples\n",
    "In looking through this DataFrame, I found that there is hardly any data from 2020 and 2021.  Because there are so few films in these years, I am choosing to exclude them from our analysis as to not skew our data."
   ]
  },
  {
   "cell_type": "code",
   "execution_count": 101,
   "metadata": {
    "ExecuteTime": {
     "end_time": "2021-12-17T02:55:58.802055Z",
     "start_time": "2021-12-17T02:55:58.792914Z"
    }
   },
   "outputs": [],
   "source": [
    "#Remove data from 2020 and 2021\n",
    "month_and_year_df = month_and_year_df[month_and_year_df['start_year'] < 2020]"
   ]
  },
  {
   "cell_type": "markdown",
   "metadata": {},
   "source": [
    "## Organize the Data by Year and Month"
   ]
  },
  {
   "cell_type": "code",
   "execution_count": 102,
   "metadata": {
    "ExecuteTime": {
     "end_time": "2021-12-17T02:55:59.173768Z",
     "start_time": "2021-12-17T02:55:59.158942Z"
    }
   },
   "outputs": [],
   "source": [
    "#Group the data by year and then by month\n",
    "month_and_year_df = month_and_year_df.groupby(\n",
    "    ['start_year', 'release_date']).mean()"
   ]
  },
  {
   "cell_type": "code",
   "execution_count": 103,
   "metadata": {
    "ExecuteTime": {
     "end_time": "2021-12-17T02:55:59.361411Z",
     "start_time": "2021-12-17T02:55:59.337064Z"
    }
   },
   "outputs": [
    {
     "data": {
      "text/html": [
       "<div>\n",
       "<style scoped>\n",
       "    .dataframe tbody tr th:only-of-type {\n",
       "        vertical-align: middle;\n",
       "    }\n",
       "\n",
       "    .dataframe tbody tr th {\n",
       "        vertical-align: top;\n",
       "    }\n",
       "\n",
       "    .dataframe thead th {\n",
       "        text-align: right;\n",
       "    }\n",
       "</style>\n",
       "<table border=\"1\" class=\"dataframe\">\n",
       "  <thead>\n",
       "    <tr style=\"text-align: right;\">\n",
       "      <th></th>\n",
       "      <th></th>\n",
       "      <th>worldwide_gross</th>\n",
       "    </tr>\n",
       "    <tr>\n",
       "      <th>start_year</th>\n",
       "      <th>release_date</th>\n",
       "      <th></th>\n",
       "    </tr>\n",
       "  </thead>\n",
       "  <tbody>\n",
       "    <tr>\n",
       "      <th rowspan=\"5\" valign=\"top\">2010</th>\n",
       "      <th>Jan</th>\n",
       "      <td>6.022838e+07</td>\n",
       "    </tr>\n",
       "    <tr>\n",
       "      <th>Feb</th>\n",
       "      <td>8.478351e+07</td>\n",
       "    </tr>\n",
       "    <tr>\n",
       "      <th>Mar</th>\n",
       "      <td>1.535752e+08</td>\n",
       "    </tr>\n",
       "    <tr>\n",
       "      <th>Apr</th>\n",
       "      <td>4.391501e+07</td>\n",
       "    </tr>\n",
       "    <tr>\n",
       "      <th>May</th>\n",
       "      <td>9.206926e+07</td>\n",
       "    </tr>\n",
       "    <tr>\n",
       "      <th>...</th>\n",
       "      <th>...</th>\n",
       "      <td>...</td>\n",
       "    </tr>\n",
       "    <tr>\n",
       "      <th rowspan=\"5\" valign=\"top\">2019</th>\n",
       "      <th>Aug</th>\n",
       "      <td>3.244294e+07</td>\n",
       "    </tr>\n",
       "    <tr>\n",
       "      <th>Sep</th>\n",
       "      <td>2.648121e+07</td>\n",
       "    </tr>\n",
       "    <tr>\n",
       "      <th>Oct</th>\n",
       "      <td>2.896269e+07</td>\n",
       "    </tr>\n",
       "    <tr>\n",
       "      <th>Nov</th>\n",
       "      <td>1.531752e+08</td>\n",
       "    </tr>\n",
       "    <tr>\n",
       "      <th>Dec</th>\n",
       "      <td>4.348002e+07</td>\n",
       "    </tr>\n",
       "  </tbody>\n",
       "</table>\n",
       "<p>120 rows × 1 columns</p>\n",
       "</div>"
      ],
      "text/plain": [
       "                         worldwide_gross\n",
       "start_year release_date                 \n",
       "2010       Jan              6.022838e+07\n",
       "           Feb              8.478351e+07\n",
       "           Mar              1.535752e+08\n",
       "           Apr              4.391501e+07\n",
       "           May              9.206926e+07\n",
       "...                                  ...\n",
       "2019       Aug              3.244294e+07\n",
       "           Sep              2.648121e+07\n",
       "           Oct              2.896269e+07\n",
       "           Nov              1.531752e+08\n",
       "           Dec              4.348002e+07\n",
       "\n",
       "[120 rows x 1 columns]"
      ]
     },
     "execution_count": 103,
     "metadata": {},
     "output_type": "execute_result"
    }
   ],
   "source": [
    "month_and_year_df"
   ]
  },
  {
   "cell_type": "markdown",
   "metadata": {},
   "source": [
    "### Representing our Data in a Plot\n",
    "We will use a line plot to represent our findings."
   ]
  },
  {
   "cell_type": "code",
   "execution_count": 104,
   "metadata": {
    "ExecuteTime": {
     "end_time": "2021-12-17T02:55:59.949952Z",
     "start_time": "2021-12-17T02:55:59.724198Z"
    }
   },
   "outputs": [
    {
     "data": {
      "image/png": "[encoded data removed]",
      "text/plain": [
       "<Figure size 864x576 with 1 Axes>"
      ]
     },
     "metadata": {},
     "output_type": "display_data"
    }
   ],
   "source": [
    "#Create a line plot to showcase results\n",
    "sns.set(rc={'figure.figsize':(12,8)},\n",
    "        font_scale=2)\n",
    "p3 = sns.lineplot(data=month_and_year_df, \n",
    "                  x='release_date', \n",
    "                  y='worldwide_gross', \n",
    "                  hue='start_year',\n",
    "                  palette = 'mako_r')\n",
    "p3.set(xlabel='Release Month',\n",
    "       ylabel='Revenue',\n",
    "       title='Revenue by Month From 2015 to 2019');"
   ]
  },
  {
   "cell_type": "markdown",
   "metadata": {},
   "source": [
    "## Findings\n",
    "Based on the above graph, it seems as though the worst months to release a movie would be January, April, August, September, October, and December.  Conversely, the best months to release movies are May, June, July, and November."
   ]
  },
  {
   "cell_type": "markdown",
   "metadata": {},
   "source": [
    "# Find the Director with the Highest Ratings\n",
    "Finally, we are going to look into the fifteen highest rated directors that have produced 10 or more movies.\n",
    "## Choosing our Data\n",
    "For the final example, we will be using four tables: imdb title crew, imdb title ratings, imdb title principals, and imdb name basics."
   ]
  },
  {
   "cell_type": "code",
   "execution_count": 18,
   "metadata": {
    "ExecuteTime": {
     "end_time": "2021-12-17T03:34:18.041532Z",
     "start_time": "2021-12-17T03:34:18.024117Z"
    }
   },
   "outputs": [
    {
     "name": "stdout",
     "output_type": "stream",
     "text": [
      "Length: 146144\n"
     ]
    },
    {
     "data": {
      "text/html": [
       "<div>\n",
       "<style scoped>\n",
       "    .dataframe tbody tr th:only-of-type {\n",
       "        vertical-align: middle;\n",
       "    }\n",
       "\n",
       "    .dataframe tbody tr th {\n",
       "        vertical-align: top;\n",
       "    }\n",
       "\n",
       "    .dataframe thead th {\n",
       "        text-align: right;\n",
       "    }\n",
       "</style>\n",
       "<table border=\"1\" class=\"dataframe\">\n",
       "  <thead>\n",
       "    <tr style=\"text-align: right;\">\n",
       "      <th></th>\n",
       "      <th>directors</th>\n",
       "      <th>writers</th>\n",
       "    </tr>\n",
       "    <tr>\n",
       "      <th>tconst</th>\n",
       "      <th></th>\n",
       "      <th></th>\n",
       "    </tr>\n",
       "  </thead>\n",
       "  <tbody>\n",
       "    <tr>\n",
       "      <th>tt0285252</th>\n",
       "      <td>nm0899854</td>\n",
       "      <td>nm0899854</td>\n",
       "    </tr>\n",
       "    <tr>\n",
       "      <th>tt0438973</th>\n",
       "      <td>NaN</td>\n",
       "      <td>nm0175726,nm1802864</td>\n",
       "    </tr>\n",
       "    <tr>\n",
       "      <th>tt0462036</th>\n",
       "      <td>nm1940585</td>\n",
       "      <td>nm1940585</td>\n",
       "    </tr>\n",
       "    <tr>\n",
       "      <th>tt0835418</th>\n",
       "      <td>nm0151540</td>\n",
       "      <td>nm0310087,nm0841532</td>\n",
       "    </tr>\n",
       "    <tr>\n",
       "      <th>tt0878654</th>\n",
       "      <td>nm0089502,nm2291498,nm2292011</td>\n",
       "      <td>nm0284943</td>\n",
       "    </tr>\n",
       "  </tbody>\n",
       "</table>\n",
       "</div>"
      ],
      "text/plain": [
       "                               directors              writers\n",
       "tconst                                                       \n",
       "tt0285252                      nm0899854            nm0899854\n",
       "tt0438973                            NaN  nm0175726,nm1802864\n",
       "tt0462036                      nm1940585            nm1940585\n",
       "tt0835418                      nm0151540  nm0310087,nm0841532\n",
       "tt0878654  nm0089502,nm2291498,nm2292011            nm0284943"
      ]
     },
     "execution_count": 18,
     "metadata": {},
     "output_type": "execute_result"
    }
   ],
   "source": [
    "#Create separate DataFrames\n",
    "movie_crew_df = csv_files_dict[\"imdb_title_crew_gz\"]\n",
    "print(\"Length:\", len(movie_crew_df))\n",
    "movie_crew_df.head()"
   ]
  },
  {
   "cell_type": "code",
   "execution_count": 19,
   "metadata": {
    "ExecuteTime": {
     "end_time": "2021-12-17T03:34:18.361472Z",
     "start_time": "2021-12-17T03:34:18.344667Z"
    }
   },
   "outputs": [
    {
     "name": "stdout",
     "output_type": "stream",
     "text": [
      "Length: 73856\n"
     ]
    },
    {
     "data": {
      "text/html": [
       "<div>\n",
       "<style scoped>\n",
       "    .dataframe tbody tr th:only-of-type {\n",
       "        vertical-align: middle;\n",
       "    }\n",
       "\n",
       "    .dataframe tbody tr th {\n",
       "        vertical-align: top;\n",
       "    }\n",
       "\n",
       "    .dataframe thead th {\n",
       "        text-align: right;\n",
       "    }\n",
       "</style>\n",
       "<table border=\"1\" class=\"dataframe\">\n",
       "  <thead>\n",
       "    <tr style=\"text-align: right;\">\n",
       "      <th></th>\n",
       "      <th>averagerating</th>\n",
       "      <th>numvotes</th>\n",
       "    </tr>\n",
       "    <tr>\n",
       "      <th>tconst</th>\n",
       "      <th></th>\n",
       "      <th></th>\n",
       "    </tr>\n",
       "  </thead>\n",
       "  <tbody>\n",
       "    <tr>\n",
       "      <th>tt10356526</th>\n",
       "      <td>8.3</td>\n",
       "      <td>31</td>\n",
       "    </tr>\n",
       "    <tr>\n",
       "      <th>tt10384606</th>\n",
       "      <td>8.9</td>\n",
       "      <td>559</td>\n",
       "    </tr>\n",
       "    <tr>\n",
       "      <th>tt1042974</th>\n",
       "      <td>6.4</td>\n",
       "      <td>20</td>\n",
       "    </tr>\n",
       "    <tr>\n",
       "      <th>tt1043726</th>\n",
       "      <td>4.2</td>\n",
       "      <td>50352</td>\n",
       "    </tr>\n",
       "    <tr>\n",
       "      <th>tt1060240</th>\n",
       "      <td>6.5</td>\n",
       "      <td>21</td>\n",
       "    </tr>\n",
       "  </tbody>\n",
       "</table>\n",
       "</div>"
      ],
      "text/plain": [
       "            averagerating  numvotes\n",
       "tconst                             \n",
       "tt10356526            8.3        31\n",
       "tt10384606            8.9       559\n",
       "tt1042974             6.4        20\n",
       "tt1043726             4.2     50352\n",
       "tt1060240             6.5        21"
      ]
     },
     "execution_count": 19,
     "metadata": {},
     "output_type": "execute_result"
    }
   ],
   "source": [
    "movie_ratings_df = csv_files_dict[\"imdb_title_ratings_gz\"]\n",
    "print(\"Length:\", len(movie_ratings_df))\n",
    "movie_ratings_df.head()"
   ]
  },
  {
   "cell_type": "code",
   "execution_count": 20,
   "metadata": {
    "ExecuteTime": {
     "end_time": "2021-12-17T03:34:18.629848Z",
     "start_time": "2021-12-17T03:34:18.609676Z"
    }
   },
   "outputs": [
    {
     "name": "stdout",
     "output_type": "stream",
     "text": [
      "Length: 1028186\n"
     ]
    },
    {
     "data": {
      "text/html": [
       "<div>\n",
       "<style scoped>\n",
       "    .dataframe tbody tr th:only-of-type {\n",
       "        vertical-align: middle;\n",
       "    }\n",
       "\n",
       "    .dataframe tbody tr th {\n",
       "        vertical-align: top;\n",
       "    }\n",
       "\n",
       "    .dataframe thead th {\n",
       "        text-align: right;\n",
       "    }\n",
       "</style>\n",
       "<table border=\"1\" class=\"dataframe\">\n",
       "  <thead>\n",
       "    <tr style=\"text-align: right;\">\n",
       "      <th></th>\n",
       "      <th>ordering</th>\n",
       "      <th>nconst</th>\n",
       "      <th>category</th>\n",
       "      <th>job</th>\n",
       "      <th>characters</th>\n",
       "    </tr>\n",
       "    <tr>\n",
       "      <th>tconst</th>\n",
       "      <th></th>\n",
       "      <th></th>\n",
       "      <th></th>\n",
       "      <th></th>\n",
       "      <th></th>\n",
       "    </tr>\n",
       "  </thead>\n",
       "  <tbody>\n",
       "    <tr>\n",
       "      <th>tt0111414</th>\n",
       "      <td>1</td>\n",
       "      <td>nm0246005</td>\n",
       "      <td>actor</td>\n",
       "      <td>NaN</td>\n",
       "      <td>[\"The Man\"]</td>\n",
       "    </tr>\n",
       "    <tr>\n",
       "      <th>tt0111414</th>\n",
       "      <td>2</td>\n",
       "      <td>nm0398271</td>\n",
       "      <td>director</td>\n",
       "      <td>NaN</td>\n",
       "      <td>NaN</td>\n",
       "    </tr>\n",
       "    <tr>\n",
       "      <th>tt0111414</th>\n",
       "      <td>3</td>\n",
       "      <td>nm3739909</td>\n",
       "      <td>producer</td>\n",
       "      <td>producer</td>\n",
       "      <td>NaN</td>\n",
       "    </tr>\n",
       "    <tr>\n",
       "      <th>tt0323808</th>\n",
       "      <td>10</td>\n",
       "      <td>nm0059247</td>\n",
       "      <td>editor</td>\n",
       "      <td>NaN</td>\n",
       "      <td>NaN</td>\n",
       "    </tr>\n",
       "    <tr>\n",
       "      <th>tt0323808</th>\n",
       "      <td>1</td>\n",
       "      <td>nm3579312</td>\n",
       "      <td>actress</td>\n",
       "      <td>NaN</td>\n",
       "      <td>[\"Beth Boothby\"]</td>\n",
       "    </tr>\n",
       "  </tbody>\n",
       "</table>\n",
       "</div>"
      ],
      "text/plain": [
       "           ordering     nconst  category       job        characters\n",
       "tconst                                                              \n",
       "tt0111414         1  nm0246005     actor       NaN       [\"The Man\"]\n",
       "tt0111414         2  nm0398271  director       NaN               NaN\n",
       "tt0111414         3  nm3739909  producer  producer               NaN\n",
       "tt0323808        10  nm0059247    editor       NaN               NaN\n",
       "tt0323808         1  nm3579312   actress       NaN  [\"Beth Boothby\"]"
      ]
     },
     "execution_count": 20,
     "metadata": {},
     "output_type": "execute_result"
    }
   ],
   "source": [
    "title_principals_df = csv_files_dict[\"imdb_title_principals_gz\"]\n",
    "print(\"Length:\", len(title_principals_df))\n",
    "title_principals_df.head()"
   ]
  },
  {
   "cell_type": "code",
   "execution_count": 21,
   "metadata": {
    "ExecuteTime": {
     "end_time": "2021-12-17T03:34:19.005525Z",
     "start_time": "2021-12-17T03:34:18.985429Z"
    }
   },
   "outputs": [
    {
     "name": "stdout",
     "output_type": "stream",
     "text": [
      "Length: 606648\n"
     ]
    },
    {
     "data": {
      "text/html": [
       "<div>\n",
       "<style scoped>\n",
       "    .dataframe tbody tr th:only-of-type {\n",
       "        vertical-align: middle;\n",
       "    }\n",
       "\n",
       "    .dataframe tbody tr th {\n",
       "        vertical-align: top;\n",
       "    }\n",
       "\n",
       "    .dataframe thead th {\n",
       "        text-align: right;\n",
       "    }\n",
       "</style>\n",
       "<table border=\"1\" class=\"dataframe\">\n",
       "  <thead>\n",
       "    <tr style=\"text-align: right;\">\n",
       "      <th></th>\n",
       "      <th>primary_name</th>\n",
       "      <th>birth_year</th>\n",
       "      <th>death_year</th>\n",
       "      <th>primary_profession</th>\n",
       "      <th>known_for_titles</th>\n",
       "    </tr>\n",
       "    <tr>\n",
       "      <th>nconst</th>\n",
       "      <th></th>\n",
       "      <th></th>\n",
       "      <th></th>\n",
       "      <th></th>\n",
       "      <th></th>\n",
       "    </tr>\n",
       "  </thead>\n",
       "  <tbody>\n",
       "    <tr>\n",
       "      <th>nm0061671</th>\n",
       "      <td>Mary Ellen Bauder</td>\n",
       "      <td>NaN</td>\n",
       "      <td>NaN</td>\n",
       "      <td>miscellaneous,production_manager,producer</td>\n",
       "      <td>tt0837562,tt2398241,tt0844471,tt0118553</td>\n",
       "    </tr>\n",
       "    <tr>\n",
       "      <th>nm0061865</th>\n",
       "      <td>Joseph Bauer</td>\n",
       "      <td>NaN</td>\n",
       "      <td>NaN</td>\n",
       "      <td>composer,music_department,sound_department</td>\n",
       "      <td>tt0896534,tt6791238,tt0287072,tt1682940</td>\n",
       "    </tr>\n",
       "    <tr>\n",
       "      <th>nm0062070</th>\n",
       "      <td>Bruce Baum</td>\n",
       "      <td>NaN</td>\n",
       "      <td>NaN</td>\n",
       "      <td>miscellaneous,actor,writer</td>\n",
       "      <td>tt1470654,tt0363631,tt0104030,tt0102898</td>\n",
       "    </tr>\n",
       "    <tr>\n",
       "      <th>nm0062195</th>\n",
       "      <td>Axel Baumann</td>\n",
       "      <td>NaN</td>\n",
       "      <td>NaN</td>\n",
       "      <td>camera_department,cinematographer,art_department</td>\n",
       "      <td>tt0114371,tt2004304,tt1618448,tt1224387</td>\n",
       "    </tr>\n",
       "    <tr>\n",
       "      <th>nm0062798</th>\n",
       "      <td>Pete Baxter</td>\n",
       "      <td>NaN</td>\n",
       "      <td>NaN</td>\n",
       "      <td>production_designer,art_department,set_decorator</td>\n",
       "      <td>tt0452644,tt0452692,tt3458030,tt2178256</td>\n",
       "    </tr>\n",
       "  </tbody>\n",
       "</table>\n",
       "</div>"
      ],
      "text/plain": [
       "                primary_name  birth_year  death_year  \\\n",
       "nconst                                                 \n",
       "nm0061671  Mary Ellen Bauder         NaN         NaN   \n",
       "nm0061865       Joseph Bauer         NaN         NaN   \n",
       "nm0062070         Bruce Baum         NaN         NaN   \n",
       "nm0062195       Axel Baumann         NaN         NaN   \n",
       "nm0062798        Pete Baxter         NaN         NaN   \n",
       "\n",
       "                                         primary_profession  \\\n",
       "nconst                                                        \n",
       "nm0061671         miscellaneous,production_manager,producer   \n",
       "nm0061865        composer,music_department,sound_department   \n",
       "nm0062070                        miscellaneous,actor,writer   \n",
       "nm0062195  camera_department,cinematographer,art_department   \n",
       "nm0062798  production_designer,art_department,set_decorator   \n",
       "\n",
       "                                  known_for_titles  \n",
       "nconst                                              \n",
       "nm0061671  tt0837562,tt2398241,tt0844471,tt0118553  \n",
       "nm0061865  tt0896534,tt6791238,tt0287072,tt1682940  \n",
       "nm0062070  tt1470654,tt0363631,tt0104030,tt0102898  \n",
       "nm0062195  tt0114371,tt2004304,tt1618448,tt1224387  \n",
       "nm0062798  tt0452644,tt0452692,tt3458030,tt2178256  "
      ]
     },
     "execution_count": 21,
     "metadata": {},
     "output_type": "execute_result"
    }
   ],
   "source": [
    "name_basics_df = csv_files_dict[\"imdb_name_basics_gz\"]\n",
    "print(\"Length:\", len(name_basics_df))\n",
    "name_basics_df.head()"
   ]
  },
  {
   "cell_type": "markdown",
   "metadata": {},
   "source": [
    "## Joining the Tables\n",
    "In this case, we are able to join three of the tables on their index.  The fourth, name basics, must be added via a merge because we are using columns that are not the index."
   ]
  },
  {
   "cell_type": "code",
   "execution_count": 22,
   "metadata": {
    "ExecuteTime": {
     "end_time": "2021-12-17T03:34:19.877425Z",
     "start_time": "2021-12-17T03:34:19.449611Z"
    }
   },
   "outputs": [],
   "source": [
    "#Join crew, ratings, and principals on index\n",
    "crew_and_ratings_df = movie_crew_df.join(movie_ratings_df, how='inner')\n",
    "join_principals_df = crew_and_ratings_df.join(title_principals_df, \n",
    "                                              how='inner')"
   ]
  },
  {
   "cell_type": "code",
   "execution_count": 23,
   "metadata": {
    "ExecuteTime": {
     "end_time": "2021-12-17T03:34:20.441067Z",
     "start_time": "2021-12-17T03:34:19.878588Z"
    }
   },
   "outputs": [],
   "source": [
    "#Merge in names on nconst\n",
    "names_merged_df = join_principals_df.merge(name_basics_df, \n",
    "                                           how='inner', \n",
    "                                           left_on='nconst', \n",
    "                                           right_on='nconst')"
   ]
  },
  {
   "cell_type": "markdown",
   "metadata": {},
   "source": [
    "## Cleaning the Data\n",
    "From these merged tables, we want to pull only the (living) directors and put them in their own DataFrame."
   ]
  },
  {
   "cell_type": "code",
   "execution_count": 24,
   "metadata": {
    "ExecuteTime": {
     "end_time": "2021-12-17T03:34:21.031563Z",
     "start_time": "2021-12-17T03:34:20.442353Z"
    },
    "scrolled": true
   },
   "outputs": [
    {
     "data": {
      "text/plain": [
       "<bound method IndexOpsMixin.value_counts of 0         False\n",
       "1         False\n",
       "2         False\n",
       "3         False\n",
       "4         False\n",
       "          ...  \n",
       "629593    False\n",
       "629594    False\n",
       "629595    False\n",
       "629596    False\n",
       "629597    False\n",
       "Length: 629598, dtype: bool>"
      ]
     },
     "execution_count": 24,
     "metadata": {},
     "output_type": "execute_result"
    }
   ],
   "source": [
    "#check for duplicates\n",
    "names_merged_df.duplicated().value_counts"
   ]
  },
  {
   "cell_type": "code",
   "execution_count": 25,
   "metadata": {
    "ExecuteTime": {
     "end_time": "2021-12-17T03:34:21.087121Z",
     "start_time": "2021-12-17T03:34:21.032722Z"
    }
   },
   "outputs": [
    {
     "data": {
      "text/plain": [
       "actor                  155476\n",
       "actress                 92824\n",
       "producer                80367\n",
       "director                77452\n",
       "writer                  52412\n",
       "composer                49898\n",
       "cinematographer         46652\n",
       "self                    32906\n",
       "editor                  32428\n",
       "production_designer      7038\n",
       "archive_footage          2133\n",
       "archive_sound              12\n",
       "Name: category, dtype: int64"
      ]
     },
     "execution_count": 25,
     "metadata": {},
     "output_type": "execute_result"
    }
   ],
   "source": [
    "#Look at categories\n",
    "names_merged_df['category'].value_counts()"
   ]
  },
  {
   "cell_type": "code",
   "execution_count": 26,
   "metadata": {
    "ExecuteTime": {
     "end_time": "2021-12-17T03:34:21.268075Z",
     "start_time": "2021-12-17T03:34:21.088033Z"
    }
   },
   "outputs": [],
   "source": [
    "#Create a DataFrame of directors\n",
    "directors_df = names_merged_df[names_merged_df['category'] == 'director']"
   ]
  },
  {
   "cell_type": "code",
   "execution_count": 27,
   "metadata": {
    "ExecuteTime": {
     "end_time": "2021-12-17T03:34:21.282273Z",
     "start_time": "2021-12-17T03:34:21.269110Z"
    }
   },
   "outputs": [
    {
     "data": {
      "text/html": [
       "<div>\n",
       "<style scoped>\n",
       "    .dataframe tbody tr th:only-of-type {\n",
       "        vertical-align: middle;\n",
       "    }\n",
       "\n",
       "    .dataframe tbody tr th {\n",
       "        vertical-align: top;\n",
       "    }\n",
       "\n",
       "    .dataframe thead th {\n",
       "        text-align: right;\n",
       "    }\n",
       "</style>\n",
       "<table border=\"1\" class=\"dataframe\">\n",
       "  <thead>\n",
       "    <tr style=\"text-align: right;\">\n",
       "      <th></th>\n",
       "      <th>directors</th>\n",
       "      <th>writers</th>\n",
       "      <th>averagerating</th>\n",
       "      <th>numvotes</th>\n",
       "      <th>ordering</th>\n",
       "      <th>nconst</th>\n",
       "      <th>category</th>\n",
       "      <th>job</th>\n",
       "      <th>characters</th>\n",
       "      <th>primary_name</th>\n",
       "      <th>birth_year</th>\n",
       "      <th>death_year</th>\n",
       "      <th>primary_profession</th>\n",
       "      <th>known_for_titles</th>\n",
       "    </tr>\n",
       "  </thead>\n",
       "  <tbody>\n",
       "    <tr>\n",
       "      <th>5</th>\n",
       "      <td>nm0712540</td>\n",
       "      <td>nm0023551,nm1194313,nm0347899,nm1391276</td>\n",
       "      <td>7.0</td>\n",
       "      <td>77</td>\n",
       "      <td>5</td>\n",
       "      <td>nm0712540</td>\n",
       "      <td>director</td>\n",
       "      <td>NaN</td>\n",
       "      <td>NaN</td>\n",
       "      <td>Harnam Singh Rawail</td>\n",
       "      <td>1921.0</td>\n",
       "      <td>2004.0</td>\n",
       "      <td>director,writer,producer</td>\n",
       "      <td>tt0266757,tt0266712,tt0134996,tt0266765</td>\n",
       "    </tr>\n",
       "    <tr>\n",
       "      <th>25</th>\n",
       "      <td>nm0002411</td>\n",
       "      <td>NaN</td>\n",
       "      <td>7.2</td>\n",
       "      <td>43</td>\n",
       "      <td>5</td>\n",
       "      <td>nm0002411</td>\n",
       "      <td>director</td>\n",
       "      <td>NaN</td>\n",
       "      <td>NaN</td>\n",
       "      <td>Mani Kaul</td>\n",
       "      <td>1944.0</td>\n",
       "      <td>2011.0</td>\n",
       "      <td>director,writer,actor</td>\n",
       "      <td>tt0102515,tt0070009,tt0066514,tt0207626</td>\n",
       "    </tr>\n",
       "    <tr>\n",
       "      <th>35</th>\n",
       "      <td>nm0000953</td>\n",
       "      <td>nm0091673,nm0000953</td>\n",
       "      <td>6.1</td>\n",
       "      <td>22179</td>\n",
       "      <td>5</td>\n",
       "      <td>nm0000953</td>\n",
       "      <td>director</td>\n",
       "      <td>NaN</td>\n",
       "      <td>NaN</td>\n",
       "      <td>Peter Bogdanovich</td>\n",
       "      <td>1939.0</td>\n",
       "      <td>NaN</td>\n",
       "      <td>actor,director,writer</td>\n",
       "      <td>tt0067328,tt0063671,tt0070510,tt0069049</td>\n",
       "    </tr>\n",
       "    <tr>\n",
       "      <th>54</th>\n",
       "      <td>nm0000080</td>\n",
       "      <td>nm0000080,nm0462648</td>\n",
       "      <td>6.9</td>\n",
       "      <td>4517</td>\n",
       "      <td>5</td>\n",
       "      <td>nm0000080</td>\n",
       "      <td>director</td>\n",
       "      <td>NaN</td>\n",
       "      <td>NaN</td>\n",
       "      <td>Orson Welles</td>\n",
       "      <td>1915.0</td>\n",
       "      <td>1985.0</td>\n",
       "      <td>actor,director,writer</td>\n",
       "      <td>tt0048393,tt0052311,tt0057427,tt0033467</td>\n",
       "    </tr>\n",
       "    <tr>\n",
       "      <th>98</th>\n",
       "      <td>nm0611531</td>\n",
       "      <td>nm0347899</td>\n",
       "      <td>6.1</td>\n",
       "      <td>13</td>\n",
       "      <td>5</td>\n",
       "      <td>nm0611531</td>\n",
       "      <td>director</td>\n",
       "      <td>NaN</td>\n",
       "      <td>NaN</td>\n",
       "      <td>Hrishikesh Mukherjee</td>\n",
       "      <td>1922.0</td>\n",
       "      <td>2006.0</td>\n",
       "      <td>director,editor,writer</td>\n",
       "      <td>tt0066763,tt0147855,tt0137362,tt0137361</td>\n",
       "    </tr>\n",
       "    <tr>\n",
       "      <th>...</th>\n",
       "      <td>...</td>\n",
       "      <td>...</td>\n",
       "      <td>...</td>\n",
       "      <td>...</td>\n",
       "      <td>...</td>\n",
       "      <td>...</td>\n",
       "      <td>...</td>\n",
       "      <td>...</td>\n",
       "      <td>...</td>\n",
       "      <td>...</td>\n",
       "      <td>...</td>\n",
       "      <td>...</td>\n",
       "      <td>...</td>\n",
       "      <td>...</td>\n",
       "    </tr>\n",
       "    <tr>\n",
       "      <th>629572</th>\n",
       "      <td>nm10536332</td>\n",
       "      <td>nm10536332,nm3853626</td>\n",
       "      <td>6.1</td>\n",
       "      <td>7</td>\n",
       "      <td>5</td>\n",
       "      <td>nm10536332</td>\n",
       "      <td>director</td>\n",
       "      <td>NaN</td>\n",
       "      <td>NaN</td>\n",
       "      <td>Maria Salazar</td>\n",
       "      <td>NaN</td>\n",
       "      <td>NaN</td>\n",
       "      <td>NaN</td>\n",
       "      <td>NaN</td>\n",
       "    </tr>\n",
       "    <tr>\n",
       "      <th>629577</th>\n",
       "      <td>nm10536451</td>\n",
       "      <td>nm10536451,nm10536453,nm10536454</td>\n",
       "      <td>8.4</td>\n",
       "      <td>365</td>\n",
       "      <td>5</td>\n",
       "      <td>nm10536451</td>\n",
       "      <td>director</td>\n",
       "      <td>NaN</td>\n",
       "      <td>NaN</td>\n",
       "      <td>Vineesh Aaradya</td>\n",
       "      <td>NaN</td>\n",
       "      <td>NaN</td>\n",
       "      <td>writer,director</td>\n",
       "      <td>NaN</td>\n",
       "    </tr>\n",
       "    <tr>\n",
       "      <th>629582</th>\n",
       "      <td>nm1502645</td>\n",
       "      <td>NaN</td>\n",
       "      <td>6.2</td>\n",
       "      <td>5</td>\n",
       "      <td>1</td>\n",
       "      <td>nm1502645</td>\n",
       "      <td>director</td>\n",
       "      <td>NaN</td>\n",
       "      <td>NaN</td>\n",
       "      <td>Sarah Christman</td>\n",
       "      <td>NaN</td>\n",
       "      <td>NaN</td>\n",
       "      <td>miscellaneous,director,editor</td>\n",
       "      <td>tt10012842,tt3118730,tt0398932,tt9913056</td>\n",
       "    </tr>\n",
       "    <tr>\n",
       "      <th>629594</th>\n",
       "      <td>nm1716653</td>\n",
       "      <td>nm3678448,nm9361716</td>\n",
       "      <td>6.6</td>\n",
       "      <td>5</td>\n",
       "      <td>5</td>\n",
       "      <td>nm1716653</td>\n",
       "      <td>director</td>\n",
       "      <td>NaN</td>\n",
       "      <td>NaN</td>\n",
       "      <td>Laura Jou</td>\n",
       "      <td>NaN</td>\n",
       "      <td>NaN</td>\n",
       "      <td>miscellaneous,actress,director</td>\n",
       "      <td>tt1164999,tt0464141,tt5151924,tt1649419</td>\n",
       "    </tr>\n",
       "    <tr>\n",
       "      <th>629596</th>\n",
       "      <td>nm5684093</td>\n",
       "      <td>NaN</td>\n",
       "      <td>6.5</td>\n",
       "      <td>11</td>\n",
       "      <td>2</td>\n",
       "      <td>nm5684093</td>\n",
       "      <td>director</td>\n",
       "      <td>NaN</td>\n",
       "      <td>NaN</td>\n",
       "      <td>Joost van der Wiel</td>\n",
       "      <td>NaN</td>\n",
       "      <td>NaN</td>\n",
       "      <td>director,cinematographer,writer</td>\n",
       "      <td>tt2927550,tt4000564</td>\n",
       "    </tr>\n",
       "  </tbody>\n",
       "</table>\n",
       "<p>77452 rows × 14 columns</p>\n",
       "</div>"
      ],
      "text/plain": [
       "         directors                                  writers  averagerating  \\\n",
       "5        nm0712540  nm0023551,nm1194313,nm0347899,nm1391276            7.0   \n",
       "25       nm0002411                                      NaN            7.2   \n",
       "35       nm0000953                      nm0091673,nm0000953            6.1   \n",
       "54       nm0000080                      nm0000080,nm0462648            6.9   \n",
       "98       nm0611531                                nm0347899            6.1   \n",
       "...            ...                                      ...            ...   \n",
       "629572  nm10536332                     nm10536332,nm3853626            6.1   \n",
       "629577  nm10536451         nm10536451,nm10536453,nm10536454            8.4   \n",
       "629582   nm1502645                                      NaN            6.2   \n",
       "629594   nm1716653                      nm3678448,nm9361716            6.6   \n",
       "629596   nm5684093                                      NaN            6.5   \n",
       "\n",
       "        numvotes  ordering      nconst  category  job characters  \\\n",
       "5             77         5   nm0712540  director  NaN        NaN   \n",
       "25            43         5   nm0002411  director  NaN        NaN   \n",
       "35         22179         5   nm0000953  director  NaN        NaN   \n",
       "54          4517         5   nm0000080  director  NaN        NaN   \n",
       "98            13         5   nm0611531  director  NaN        NaN   \n",
       "...          ...       ...         ...       ...  ...        ...   \n",
       "629572         7         5  nm10536332  director  NaN        NaN   \n",
       "629577       365         5  nm10536451  director  NaN        NaN   \n",
       "629582         5         1   nm1502645  director  NaN        NaN   \n",
       "629594         5         5   nm1716653  director  NaN        NaN   \n",
       "629596        11         2   nm5684093  director  NaN        NaN   \n",
       "\n",
       "                primary_name  birth_year  death_year  \\\n",
       "5        Harnam Singh Rawail      1921.0      2004.0   \n",
       "25                 Mani Kaul      1944.0      2011.0   \n",
       "35         Peter Bogdanovich      1939.0         NaN   \n",
       "54              Orson Welles      1915.0      1985.0   \n",
       "98      Hrishikesh Mukherjee      1922.0      2006.0   \n",
       "...                      ...         ...         ...   \n",
       "629572         Maria Salazar         NaN         NaN   \n",
       "629577       Vineesh Aaradya         NaN         NaN   \n",
       "629582       Sarah Christman         NaN         NaN   \n",
       "629594             Laura Jou         NaN         NaN   \n",
       "629596    Joost van der Wiel         NaN         NaN   \n",
       "\n",
       "                     primary_profession  \\\n",
       "5              director,writer,producer   \n",
       "25                director,writer,actor   \n",
       "35                actor,director,writer   \n",
       "54                actor,director,writer   \n",
       "98               director,editor,writer   \n",
       "...                                 ...   \n",
       "629572                              NaN   \n",
       "629577                  writer,director   \n",
       "629582    miscellaneous,director,editor   \n",
       "629594   miscellaneous,actress,director   \n",
       "629596  director,cinematographer,writer   \n",
       "\n",
       "                                known_for_titles  \n",
       "5        tt0266757,tt0266712,tt0134996,tt0266765  \n",
       "25       tt0102515,tt0070009,tt0066514,tt0207626  \n",
       "35       tt0067328,tt0063671,tt0070510,tt0069049  \n",
       "54       tt0048393,tt0052311,tt0057427,tt0033467  \n",
       "98       tt0066763,tt0147855,tt0137362,tt0137361  \n",
       "...                                          ...  \n",
       "629572                                       NaN  \n",
       "629577                                       NaN  \n",
       "629582  tt10012842,tt3118730,tt0398932,tt9913056  \n",
       "629594   tt1164999,tt0464141,tt5151924,tt1649419  \n",
       "629596                       tt2927550,tt4000564  \n",
       "\n",
       "[77452 rows x 14 columns]"
      ]
     },
     "execution_count": 27,
     "metadata": {},
     "output_type": "execute_result"
    }
   ],
   "source": [
    "directors_df"
   ]
  },
  {
   "cell_type": "code",
   "execution_count": 28,
   "metadata": {
    "ExecuteTime": {
     "end_time": "2021-12-17T03:34:21.294491Z",
     "start_time": "2021-12-17T03:34:21.283855Z"
    }
   },
   "outputs": [],
   "source": [
    "#Remove directors if they have died\n",
    "directors_df = directors_df[directors_df['death_year'].isna() == True]"
   ]
  },
  {
   "cell_type": "markdown",
   "metadata": {},
   "source": [
    "## Pulling Relevant Data\n",
    "Since we are wanting the best directors, not one hit wonders, we will be looking only at directors who have filmed more than 10 movies."
   ]
  },
  {
   "cell_type": "code",
   "execution_count": 29,
   "metadata": {
    "ExecuteTime": {
     "end_time": "2021-12-17T03:34:21.331101Z",
     "start_time": "2021-12-17T03:34:21.295743Z"
    }
   },
   "outputs": [],
   "source": [
    "#Create a DataFrame of directors with more than 10 movies\n",
    "top_directors = pd.DataFrame(\n",
    "    directors_df['primary_name'].value_counts()[:163])"
   ]
  },
  {
   "cell_type": "code",
   "execution_count": 30,
   "metadata": {
    "ExecuteTime": {
     "end_time": "2021-12-17T03:34:21.554387Z",
     "start_time": "2021-12-17T03:34:21.517484Z"
    }
   },
   "outputs": [],
   "source": [
    "#Merge to keep only directors with 10+ movies\n",
    "top_directors_df = directors_df.merge(top_directors, \n",
    "                                      how='inner', \n",
    "                                      left_on='primary_name', \n",
    "                                      right_on=top_directors.index)"
   ]
  },
  {
   "cell_type": "code",
   "execution_count": 31,
   "metadata": {
    "ExecuteTime": {
     "end_time": "2021-12-17T03:34:21.985074Z",
     "start_time": "2021-12-17T03:34:21.969368Z"
    }
   },
   "outputs": [],
   "source": [
    "#Groupby director to get the average of their average rating\n",
    "top_directors_df = top_directors_df.groupby('primary_name').mean()"
   ]
  },
  {
   "cell_type": "code",
   "execution_count": 32,
   "metadata": {
    "ExecuteTime": {
     "end_time": "2021-12-17T03:34:22.261243Z",
     "start_time": "2021-12-17T03:34:22.252340Z"
    }
   },
   "outputs": [],
   "source": [
    "#Sort by rating\n",
    "top_15_directors_df = top_directors_df.sort_values('averagerating', \n",
    "                                                   ascending=False)[:15]"
   ]
  },
  {
   "cell_type": "markdown",
   "metadata": {},
   "source": [
    "## Representing our Data in a Plot\n",
    "We will use a bar plot to represent our findings."
   ]
  },
  {
   "cell_type": "code",
   "execution_count": 33,
   "metadata": {
    "ExecuteTime": {
     "end_time": "2021-12-17T03:34:22.919371Z",
     "start_time": "2021-12-17T03:34:22.734007Z"
    }
   },
   "outputs": [
    {
     "data": {
      "image/png": "[encoded data removed]",
      "text/plain": [
       "<Figure size 864x576 with 1 Axes>"
      ]
     },
     "metadata": {},
     "output_type": "display_data"
    }
   ],
   "source": [
    "#Create a bar plot to showcase results\n",
    "sns.set(rc={'figure.figsize':(12,8)},\n",
    "        font_scale=2)\n",
    "p = sns.barplot(data=top_15_directors_df, \n",
    "                x='averagerating', \n",
    "                y=top_15_directors_df.index,\n",
    "                palette = 'mako')\n",
    "p.set(xlabel='Average Rating', \n",
    "      ylabel='Director Name', \n",
    "      title='Rating by Director');"
   ]
  },
  {
   "cell_type": "markdown",
   "metadata": {},
   "source": [
    "## Findings\n",
    "Of the directors that have produced ten of more movies, the top fifteen highest rated are all fairly close together.  "
   ]
  },
  {
   "cell_type": "markdown",
   "metadata": {},
   "source": [
    "# Suggestions to Microsoft"
   ]
  },
  {
   "cell_type": "markdown",
   "metadata": {},
   "source": [
    "## Choosing a Genre\n",
    "Based off of our findings, I would recommend producing a Family or Fantasy movie.  They both do very well as far as profits and ROI.  The only reason I would not recommend a Musical is because they seem to have high stats due to Disney."
   ]
  },
  {
   "cell_type": "markdown",
   "metadata": {},
   "source": [
    "## Scheduling a Release Date\n",
    "I would recommend releasing a movie in either June, July, or November.  Historically, movies seem to do the best when released in these months.  If Microsoft decides to make a Family film, I would suggest releasing in the summer when children are out of school."
   ]
  },
  {
   "cell_type": "markdown",
   "metadata": {},
   "source": [
    "## Hiring a Director\n",
    "Microsoft really can't go wrong with any or the top 15 directors that we found in our last example.  They are all very close in average ratings."
   ]
  },
  {
   "cell_type": "markdown",
   "metadata": {},
   "source": [
    "# Next Steps\n",
    "1. I would look into the highest grossing production companies and find the genres that they tend to lean towards.\n",
    "2. Looking closer into release date, it would be important to establish the number of films released in each month vs average gross revenue.  If significantly more movies are released in June, July, and November, then it might not be as important that those are the top grossing months.\n",
    "3. It would be interested to dive into the genre that each of the top fifteen directors specializes in and see how they relate to the first two graphs we created."
   ]
  },
  {
   "cell_type": "code",
   "execution_count": null,
   "metadata": {},
   "outputs": [],
   "source": []
  }
 ],
 "metadata": {
  "kernelspec": {
   "display_name": "Python 3",
   "language": "python",
   "name": "python3"
  },
  "language_info": {
   "codemirror_mode": {
    "name": "ipython",
    "version": 3
   },
   "file_extension": ".py",
   "mimetype": "text/x-python",
   "name": "python",
   "nbconvert_exporter": "python",
   "pygments_lexer": "ipython3",
   "version": "3.8.5"
  },
  "toc": {
   "base_numbering": 1,
   "nav_menu": {},
   "number_sections": true,
   "sideBar": true,
   "skip_h1_title": false,
   "title_cell": "Table of Contents",
   "title_sidebar": "Contents",
   "toc_cell": false,
   "toc_position": {},
   "toc_section_display": true,
   "toc_window_display": false
  }
 },
 "nbformat": 4,
 "nbformat_minor": 4
}
